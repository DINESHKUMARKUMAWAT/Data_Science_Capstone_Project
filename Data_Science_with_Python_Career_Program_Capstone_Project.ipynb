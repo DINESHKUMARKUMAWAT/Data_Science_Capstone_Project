{
 "cells": [
  {
   "cell_type": "markdown",
   "id": "c21dc1f0",
   "metadata": {},
   "source": [
    "### Import the necessary libraries"
   ]
  },
  {
   "cell_type": "code",
   "execution_count": 1,
   "id": "845d75ed",
   "metadata": {},
   "outputs": [],
   "source": [
    "import numpy as np          # mathematical computation\n",
    "# numpy is aliased as np\n",
    "import pandas as pd             # Data Preprocessing\n",
    "# pandas is aliased as pd\n",
    "import matplotlib.pyplot as plt      # Data visualization\n",
    "# pyplot is aliased as plt        \n",
    "import seaborn as sns                # Data visualization\n",
    "# seaborn is aliased as sns\n",
    "import warnings\n",
    "warnings.filterwarnings('ignore')"
   ]
  },
  {
   "cell_type": "markdown",
   "id": "043847e1",
   "metadata": {},
   "source": [
    "### Load the data"
   ]
  },
  {
   "cell_type": "code",
   "execution_count": 2,
   "id": "e4a95194",
   "metadata": {},
   "outputs": [
    {
     "name": "stdout",
     "output_type": "stream",
     "text": [
      "<class 'pandas.core.frame.DataFrame'>\n"
     ]
    }
   ],
   "source": [
    "df=pd.read_csv('CAR DETAILS.csv')\n",
    "print(type(df))"
   ]
  },
  {
   "cell_type": "markdown",
   "id": "2951f2d9",
   "metadata": {},
   "source": [
    "### Inspecting the first 5 rows of dataset"
   ]
  },
  {
   "cell_type": "code",
   "execution_count": 3,
   "id": "24ceb0d6",
   "metadata": {},
   "outputs": [
    {
     "data": {
      "text/html": [
       "<div>\n",
       "<style scoped>\n",
       "    .dataframe tbody tr th:only-of-type {\n",
       "        vertical-align: middle;\n",
       "    }\n",
       "\n",
       "    .dataframe tbody tr th {\n",
       "        vertical-align: top;\n",
       "    }\n",
       "\n",
       "    .dataframe thead th {\n",
       "        text-align: right;\n",
       "    }\n",
       "</style>\n",
       "<table border=\"1\" class=\"dataframe\">\n",
       "  <thead>\n",
       "    <tr style=\"text-align: right;\">\n",
       "      <th></th>\n",
       "      <th>name</th>\n",
       "      <th>year</th>\n",
       "      <th>selling_price</th>\n",
       "      <th>km_driven</th>\n",
       "      <th>fuel</th>\n",
       "      <th>seller_type</th>\n",
       "      <th>transmission</th>\n",
       "      <th>owner</th>\n",
       "    </tr>\n",
       "  </thead>\n",
       "  <tbody>\n",
       "    <tr>\n",
       "      <th>0</th>\n",
       "      <td>Maruti 800 AC</td>\n",
       "      <td>2007</td>\n",
       "      <td>60000</td>\n",
       "      <td>70000</td>\n",
       "      <td>Petrol</td>\n",
       "      <td>Individual</td>\n",
       "      <td>Manual</td>\n",
       "      <td>First Owner</td>\n",
       "    </tr>\n",
       "    <tr>\n",
       "      <th>1</th>\n",
       "      <td>Maruti Wagon R LXI Minor</td>\n",
       "      <td>2007</td>\n",
       "      <td>135000</td>\n",
       "      <td>50000</td>\n",
       "      <td>Petrol</td>\n",
       "      <td>Individual</td>\n",
       "      <td>Manual</td>\n",
       "      <td>First Owner</td>\n",
       "    </tr>\n",
       "    <tr>\n",
       "      <th>2</th>\n",
       "      <td>Hyundai Verna 1.6 SX</td>\n",
       "      <td>2012</td>\n",
       "      <td>600000</td>\n",
       "      <td>100000</td>\n",
       "      <td>Diesel</td>\n",
       "      <td>Individual</td>\n",
       "      <td>Manual</td>\n",
       "      <td>First Owner</td>\n",
       "    </tr>\n",
       "    <tr>\n",
       "      <th>3</th>\n",
       "      <td>Datsun RediGO T Option</td>\n",
       "      <td>2017</td>\n",
       "      <td>250000</td>\n",
       "      <td>46000</td>\n",
       "      <td>Petrol</td>\n",
       "      <td>Individual</td>\n",
       "      <td>Manual</td>\n",
       "      <td>First Owner</td>\n",
       "    </tr>\n",
       "    <tr>\n",
       "      <th>4</th>\n",
       "      <td>Honda Amaze VX i-DTEC</td>\n",
       "      <td>2014</td>\n",
       "      <td>450000</td>\n",
       "      <td>141000</td>\n",
       "      <td>Diesel</td>\n",
       "      <td>Individual</td>\n",
       "      <td>Manual</td>\n",
       "      <td>Second Owner</td>\n",
       "    </tr>\n",
       "  </tbody>\n",
       "</table>\n",
       "</div>"
      ],
      "text/plain": [
       "                       name  year  selling_price  km_driven    fuel  \\\n",
       "0             Maruti 800 AC  2007          60000      70000  Petrol   \n",
       "1  Maruti Wagon R LXI Minor  2007         135000      50000  Petrol   \n",
       "2      Hyundai Verna 1.6 SX  2012         600000     100000  Diesel   \n",
       "3    Datsun RediGO T Option  2017         250000      46000  Petrol   \n",
       "4     Honda Amaze VX i-DTEC  2014         450000     141000  Diesel   \n",
       "\n",
       "  seller_type transmission         owner  \n",
       "0  Individual       Manual   First Owner  \n",
       "1  Individual       Manual   First Owner  \n",
       "2  Individual       Manual   First Owner  \n",
       "3  Individual       Manual   First Owner  \n",
       "4  Individual       Manual  Second Owner  "
      ]
     },
     "execution_count": 3,
     "metadata": {},
     "output_type": "execute_result"
    }
   ],
   "source": [
    "df.head()"
   ]
  },
  {
   "cell_type": "markdown",
   "id": "dba0dc69",
   "metadata": {},
   "source": [
    "### Shape of Dataset"
   ]
  },
  {
   "cell_type": "code",
   "execution_count": 4,
   "id": "57dd58af",
   "metadata": {},
   "outputs": [
    {
     "data": {
      "text/plain": [
       "(4340, 8)"
      ]
     },
     "execution_count": 4,
     "metadata": {},
     "output_type": "execute_result"
    }
   ],
   "source": [
    "df.shape\n",
    "# rows=4340, columns=8"
   ]
  },
  {
   "cell_type": "markdown",
   "id": "43ce28fe",
   "metadata": {},
   "source": [
    "### Print the concise summary of data "
   ]
  },
  {
   "cell_type": "code",
   "execution_count": 5,
   "id": "2d6a3a39",
   "metadata": {},
   "outputs": [
    {
     "name": "stdout",
     "output_type": "stream",
     "text": [
      "<class 'pandas.core.frame.DataFrame'>\n",
      "RangeIndex: 4340 entries, 0 to 4339\n",
      "Data columns (total 8 columns):\n",
      " #   Column         Non-Null Count  Dtype \n",
      "---  ------         --------------  ----- \n",
      " 0   name           4340 non-null   object\n",
      " 1   year           4340 non-null   int64 \n",
      " 2   selling_price  4340 non-null   int64 \n",
      " 3   km_driven      4340 non-null   int64 \n",
      " 4   fuel           4340 non-null   object\n",
      " 5   seller_type    4340 non-null   object\n",
      " 6   transmission   4340 non-null   object\n",
      " 7   owner          4340 non-null   object\n",
      "dtypes: int64(3), object(5)\n",
      "memory usage: 271.4+ KB\n"
     ]
    }
   ],
   "source": [
    "df.info()"
   ]
  },
  {
   "cell_type": "markdown",
   "id": "d1c78407",
   "metadata": {},
   "source": [
    "### Data Preprocessing"
   ]
  },
  {
   "cell_type": "markdown",
   "id": "6fc015ac",
   "metadata": {},
   "source": [
    "#### 1)Handling the null values"
   ]
  },
  {
   "cell_type": "code",
   "execution_count": 6,
   "id": "d1e90cdf",
   "metadata": {},
   "outputs": [
    {
     "data": {
      "text/plain": [
       "Series([], dtype: int64)"
      ]
     },
     "execution_count": 6,
     "metadata": {},
     "output_type": "execute_result"
    }
   ],
   "source": [
    "df_null=df.isnull().sum()\n",
    "df_null=df_null[df_null>0]\n",
    "df_null"
   ]
  },
  {
   "cell_type": "markdown",
   "id": "6f3f24d6",
   "metadata": {},
   "source": [
    "#### Inference:\n",
    "There are no null values in any columns."
   ]
  },
  {
   "cell_type": "markdown",
   "id": "a86f08e1",
   "metadata": {},
   "source": [
    "#### 2) Handling duplicate records present in Dataset"
   ]
  },
  {
   "cell_type": "code",
   "execution_count": 7,
   "id": "78b011e2",
   "metadata": {},
   "outputs": [
    {
     "data": {
      "text/html": [
       "<div>\n",
       "<style scoped>\n",
       "    .dataframe tbody tr th:only-of-type {\n",
       "        vertical-align: middle;\n",
       "    }\n",
       "\n",
       "    .dataframe tbody tr th {\n",
       "        vertical-align: top;\n",
       "    }\n",
       "\n",
       "    .dataframe thead th {\n",
       "        text-align: right;\n",
       "    }\n",
       "</style>\n",
       "<table border=\"1\" class=\"dataframe\">\n",
       "  <thead>\n",
       "    <tr style=\"text-align: right;\">\n",
       "      <th></th>\n",
       "      <th>name</th>\n",
       "      <th>year</th>\n",
       "      <th>selling_price</th>\n",
       "      <th>km_driven</th>\n",
       "      <th>fuel</th>\n",
       "      <th>seller_type</th>\n",
       "      <th>transmission</th>\n",
       "      <th>owner</th>\n",
       "    </tr>\n",
       "  </thead>\n",
       "  <tbody>\n",
       "    <tr>\n",
       "      <th>13</th>\n",
       "      <td>Maruti 800 AC</td>\n",
       "      <td>2007</td>\n",
       "      <td>60000</td>\n",
       "      <td>70000</td>\n",
       "      <td>Petrol</td>\n",
       "      <td>Individual</td>\n",
       "      <td>Manual</td>\n",
       "      <td>First Owner</td>\n",
       "    </tr>\n",
       "    <tr>\n",
       "      <th>14</th>\n",
       "      <td>Maruti Wagon R LXI Minor</td>\n",
       "      <td>2007</td>\n",
       "      <td>135000</td>\n",
       "      <td>50000</td>\n",
       "      <td>Petrol</td>\n",
       "      <td>Individual</td>\n",
       "      <td>Manual</td>\n",
       "      <td>First Owner</td>\n",
       "    </tr>\n",
       "    <tr>\n",
       "      <th>15</th>\n",
       "      <td>Hyundai Verna 1.6 SX</td>\n",
       "      <td>2012</td>\n",
       "      <td>600000</td>\n",
       "      <td>100000</td>\n",
       "      <td>Diesel</td>\n",
       "      <td>Individual</td>\n",
       "      <td>Manual</td>\n",
       "      <td>First Owner</td>\n",
       "    </tr>\n",
       "    <tr>\n",
       "      <th>16</th>\n",
       "      <td>Datsun RediGO T Option</td>\n",
       "      <td>2017</td>\n",
       "      <td>250000</td>\n",
       "      <td>46000</td>\n",
       "      <td>Petrol</td>\n",
       "      <td>Individual</td>\n",
       "      <td>Manual</td>\n",
       "      <td>First Owner</td>\n",
       "    </tr>\n",
       "    <tr>\n",
       "      <th>17</th>\n",
       "      <td>Honda Amaze VX i-DTEC</td>\n",
       "      <td>2014</td>\n",
       "      <td>450000</td>\n",
       "      <td>141000</td>\n",
       "      <td>Diesel</td>\n",
       "      <td>Individual</td>\n",
       "      <td>Manual</td>\n",
       "      <td>Second Owner</td>\n",
       "    </tr>\n",
       "    <tr>\n",
       "      <th>...</th>\n",
       "      <td>...</td>\n",
       "      <td>...</td>\n",
       "      <td>...</td>\n",
       "      <td>...</td>\n",
       "      <td>...</td>\n",
       "      <td>...</td>\n",
       "      <td>...</td>\n",
       "      <td>...</td>\n",
       "    </tr>\n",
       "    <tr>\n",
       "      <th>4307</th>\n",
       "      <td>Mahindra Xylo H4</td>\n",
       "      <td>2019</td>\n",
       "      <td>599000</td>\n",
       "      <td>15000</td>\n",
       "      <td>Diesel</td>\n",
       "      <td>Individual</td>\n",
       "      <td>Manual</td>\n",
       "      <td>Third Owner</td>\n",
       "    </tr>\n",
       "    <tr>\n",
       "      <th>4308</th>\n",
       "      <td>Maruti Alto 800 LXI</td>\n",
       "      <td>2018</td>\n",
       "      <td>200000</td>\n",
       "      <td>35000</td>\n",
       "      <td>Petrol</td>\n",
       "      <td>Individual</td>\n",
       "      <td>Manual</td>\n",
       "      <td>First Owner</td>\n",
       "    </tr>\n",
       "    <tr>\n",
       "      <th>4309</th>\n",
       "      <td>Datsun GO Plus T</td>\n",
       "      <td>2017</td>\n",
       "      <td>350000</td>\n",
       "      <td>10171</td>\n",
       "      <td>Petrol</td>\n",
       "      <td>Dealer</td>\n",
       "      <td>Manual</td>\n",
       "      <td>First Owner</td>\n",
       "    </tr>\n",
       "    <tr>\n",
       "      <th>4310</th>\n",
       "      <td>Renault Duster 110PS Diesel RxL</td>\n",
       "      <td>2015</td>\n",
       "      <td>465000</td>\n",
       "      <td>41123</td>\n",
       "      <td>Diesel</td>\n",
       "      <td>Dealer</td>\n",
       "      <td>Manual</td>\n",
       "      <td>First Owner</td>\n",
       "    </tr>\n",
       "    <tr>\n",
       "      <th>4311</th>\n",
       "      <td>Toyota Camry Hybrid 2.5</td>\n",
       "      <td>2017</td>\n",
       "      <td>1900000</td>\n",
       "      <td>20118</td>\n",
       "      <td>Petrol</td>\n",
       "      <td>Dealer</td>\n",
       "      <td>Automatic</td>\n",
       "      <td>First Owner</td>\n",
       "    </tr>\n",
       "  </tbody>\n",
       "</table>\n",
       "<p>763 rows × 8 columns</p>\n",
       "</div>"
      ],
      "text/plain": [
       "                                 name  year  selling_price  km_driven    fuel  \\\n",
       "13                      Maruti 800 AC  2007          60000      70000  Petrol   \n",
       "14           Maruti Wagon R LXI Minor  2007         135000      50000  Petrol   \n",
       "15               Hyundai Verna 1.6 SX  2012         600000     100000  Diesel   \n",
       "16             Datsun RediGO T Option  2017         250000      46000  Petrol   \n",
       "17              Honda Amaze VX i-DTEC  2014         450000     141000  Diesel   \n",
       "...                               ...   ...            ...        ...     ...   \n",
       "4307                 Mahindra Xylo H4  2019         599000      15000  Diesel   \n",
       "4308              Maruti Alto 800 LXI  2018         200000      35000  Petrol   \n",
       "4309                 Datsun GO Plus T  2017         350000      10171  Petrol   \n",
       "4310  Renault Duster 110PS Diesel RxL  2015         465000      41123  Diesel   \n",
       "4311          Toyota Camry Hybrid 2.5  2017        1900000      20118  Petrol   \n",
       "\n",
       "     seller_type transmission         owner  \n",
       "13    Individual       Manual   First Owner  \n",
       "14    Individual       Manual   First Owner  \n",
       "15    Individual       Manual   First Owner  \n",
       "16    Individual       Manual   First Owner  \n",
       "17    Individual       Manual  Second Owner  \n",
       "...          ...          ...           ...  \n",
       "4307  Individual       Manual   Third Owner  \n",
       "4308  Individual       Manual   First Owner  \n",
       "4309      Dealer       Manual   First Owner  \n",
       "4310      Dealer       Manual   First Owner  \n",
       "4311      Dealer    Automatic   First Owner  \n",
       "\n",
       "[763 rows x 8 columns]"
      ]
     },
     "execution_count": 7,
     "metadata": {},
     "output_type": "execute_result"
    }
   ],
   "source": [
    "df[df.duplicated()]"
   ]
  },
  {
   "cell_type": "code",
   "execution_count": 8,
   "id": "2a552d1f",
   "metadata": {},
   "outputs": [
    {
     "data": {
      "text/plain": [
       "763"
      ]
     },
     "execution_count": 8,
     "metadata": {},
     "output_type": "execute_result"
    }
   ],
   "source": [
    "df.duplicated().sum()"
   ]
  },
  {
   "cell_type": "markdown",
   "id": "6510e6b7",
   "metadata": {},
   "source": [
    "### Inference:- \n",
    "- There are 763 duplicated records in the Car dataset."
   ]
  },
  {
   "cell_type": "markdown",
   "id": "0ab1cc30",
   "metadata": {},
   "source": [
    "#### Drop the duplicate records"
   ]
  },
  {
   "cell_type": "code",
   "execution_count": 9,
   "id": "8e1fd69d",
   "metadata": {},
   "outputs": [],
   "source": [
    "df.drop_duplicates(inplace=True)"
   ]
  },
  {
   "cell_type": "code",
   "execution_count": 10,
   "id": "fd85fd1c",
   "metadata": {},
   "outputs": [
    {
     "data": {
      "text/plain": [
       "(3577, 8)"
      ]
     },
     "execution_count": 10,
     "metadata": {},
     "output_type": "execute_result"
    }
   ],
   "source": [
    "df.shape"
   ]
  },
  {
   "cell_type": "code",
   "execution_count": 11,
   "id": "19bddc7e",
   "metadata": {},
   "outputs": [
    {
     "data": {
      "text/plain": [
       "0"
      ]
     },
     "execution_count": 11,
     "metadata": {},
     "output_type": "execute_result"
    }
   ],
   "source": [
    "df.duplicated().sum()          \n",
    "# duplicate records present in the data after dropping the duplicate records from data= 0"
   ]
  },
  {
   "cell_type": "markdown",
   "id": "7e16de13",
   "metadata": {},
   "source": [
    "#### 3) Checking the datatypes"
   ]
  },
  {
   "cell_type": "code",
   "execution_count": 12,
   "id": "46a57358",
   "metadata": {},
   "outputs": [
    {
     "data": {
      "text/plain": [
       "name             object\n",
       "year              int64\n",
       "selling_price     int64\n",
       "km_driven         int64\n",
       "fuel             object\n",
       "seller_type      object\n",
       "transmission     object\n",
       "owner            object\n",
       "dtype: object"
      ]
     },
     "execution_count": 12,
     "metadata": {},
     "output_type": "execute_result"
    }
   ],
   "source": [
    "df.dtypes"
   ]
  },
  {
   "cell_type": "markdown",
   "id": "89c4e87a",
   "metadata": {},
   "source": [
    "### EDA"
   ]
  },
  {
   "cell_type": "markdown",
   "id": "6da1f928",
   "metadata": {},
   "source": [
    "#### 1) plot value counts of name that has greater than value counts."
   ]
  },
  {
   "cell_type": "code",
   "execution_count": 13,
   "id": "5c65a2e9",
   "metadata": {},
   "outputs": [],
   "source": [
    "name=df['name'].value_counts()\n",
    "name=name[name>=10]"
   ]
  },
  {
   "cell_type": "code",
   "execution_count": 14,
   "id": "760260e3",
   "metadata": {},
   "outputs": [
    {
     "data": {
      "image/png": "[encoded data removed]",
      "text/plain": [
       "<Figure size 1440x576 with 1 Axes>"
      ]
     },
     "metadata": {
      "needs_background": "light"
     },
     "output_type": "display_data"
    }
   ],
   "source": [
    "plt.figure(figsize=(20, 8))\n",
    "sns.barplot(name.index, name, color='cyan', edgecolor='black', order=name.sort_values(ascending=False).index)\n",
    "plt.xticks(rotation=90, size=10, c='blue')\n",
    "plt.yticks(size=10, c='blue')\n",
    "for i in range(len(name)):\n",
    "    plt.annotate(text=name[i], xy=(i, name[i]+0.5), color='maroon', size=15)\n",
    "sns.despine()\n",
    "plt.show()"
   ]
  },
  {
   "cell_type": "markdown",
   "id": "59a4f028",
   "metadata": {
    "scrolled": true
   },
   "source": [
    "#### 2) find year wise mean of selling price and depict it on bar chart  "
   ]
  },
  {
   "cell_type": "code",
   "execution_count": 15,
   "id": "35e890fc",
   "metadata": {},
   "outputs": [
    {
     "data": {
      "text/html": [
       "<div>\n",
       "<style scoped>\n",
       "    .dataframe tbody tr th:only-of-type {\n",
       "        vertical-align: middle;\n",
       "    }\n",
       "\n",
       "    .dataframe tbody tr th {\n",
       "        vertical-align: top;\n",
       "    }\n",
       "\n",
       "    .dataframe thead th {\n",
       "        text-align: right;\n",
       "    }\n",
       "</style>\n",
       "<table border=\"1\" class=\"dataframe\">\n",
       "  <thead>\n",
       "    <tr style=\"text-align: right;\">\n",
       "      <th></th>\n",
       "      <th>year</th>\n",
       "      <th>selling_price</th>\n",
       "    </tr>\n",
       "  </thead>\n",
       "  <tbody>\n",
       "    <tr>\n",
       "      <th>0</th>\n",
       "      <td>1992</td>\n",
       "      <td>50000.000000</td>\n",
       "    </tr>\n",
       "    <tr>\n",
       "      <th>1</th>\n",
       "      <td>1995</td>\n",
       "      <td>95000.000000</td>\n",
       "    </tr>\n",
       "    <tr>\n",
       "      <th>2</th>\n",
       "      <td>1996</td>\n",
       "      <td>225000.000000</td>\n",
       "    </tr>\n",
       "    <tr>\n",
       "      <th>3</th>\n",
       "      <td>1997</td>\n",
       "      <td>93000.000000</td>\n",
       "    </tr>\n",
       "    <tr>\n",
       "      <th>4</th>\n",
       "      <td>1998</td>\n",
       "      <td>165111.111111</td>\n",
       "    </tr>\n",
       "    <tr>\n",
       "      <th>5</th>\n",
       "      <td>1999</td>\n",
       "      <td>73888.888889</td>\n",
       "    </tr>\n",
       "    <tr>\n",
       "      <th>6</th>\n",
       "      <td>2000</td>\n",
       "      <td>81500.000000</td>\n",
       "    </tr>\n",
       "    <tr>\n",
       "      <th>7</th>\n",
       "      <td>2001</td>\n",
       "      <td>109562.437500</td>\n",
       "    </tr>\n",
       "    <tr>\n",
       "      <th>8</th>\n",
       "      <td>2002</td>\n",
       "      <td>86111.111111</td>\n",
       "    </tr>\n",
       "    <tr>\n",
       "      <th>9</th>\n",
       "      <td>2003</td>\n",
       "      <td>87090.909091</td>\n",
       "    </tr>\n",
       "    <tr>\n",
       "      <th>10</th>\n",
       "      <td>2004</td>\n",
       "      <td>126697.342105</td>\n",
       "    </tr>\n",
       "    <tr>\n",
       "      <th>11</th>\n",
       "      <td>2005</td>\n",
       "      <td>114821.442623</td>\n",
       "    </tr>\n",
       "    <tr>\n",
       "      <th>12</th>\n",
       "      <td>2006</td>\n",
       "      <td>154182.763441</td>\n",
       "    </tr>\n",
       "    <tr>\n",
       "      <th>13</th>\n",
       "      <td>2007</td>\n",
       "      <td>165282.042735</td>\n",
       "    </tr>\n",
       "    <tr>\n",
       "      <th>14</th>\n",
       "      <td>2008</td>\n",
       "      <td>177668.170543</td>\n",
       "    </tr>\n",
       "    <tr>\n",
       "      <th>15</th>\n",
       "      <td>2009</td>\n",
       "      <td>235467.420118</td>\n",
       "    </tr>\n",
       "    <tr>\n",
       "      <th>16</th>\n",
       "      <td>2010</td>\n",
       "      <td>275584.204762</td>\n",
       "    </tr>\n",
       "    <tr>\n",
       "      <th>17</th>\n",
       "      <td>2011</td>\n",
       "      <td>296028.291498</td>\n",
       "    </tr>\n",
       "    <tr>\n",
       "      <th>18</th>\n",
       "      <td>2012</td>\n",
       "      <td>379352.026627</td>\n",
       "    </tr>\n",
       "    <tr>\n",
       "      <th>19</th>\n",
       "      <td>2013</td>\n",
       "      <td>433046.285235</td>\n",
       "    </tr>\n",
       "    <tr>\n",
       "      <th>20</th>\n",
       "      <td>2014</td>\n",
       "      <td>512850.420561</td>\n",
       "    </tr>\n",
       "    <tr>\n",
       "      <th>21</th>\n",
       "      <td>2015</td>\n",
       "      <td>510051.159639</td>\n",
       "    </tr>\n",
       "    <tr>\n",
       "      <th>22</th>\n",
       "      <td>2016</td>\n",
       "      <td>638342.706714</td>\n",
       "    </tr>\n",
       "    <tr>\n",
       "      <th>23</th>\n",
       "      <td>2017</td>\n",
       "      <td>741184.927746</td>\n",
       "    </tr>\n",
       "    <tr>\n",
       "      <th>24</th>\n",
       "      <td>2018</td>\n",
       "      <td>820420.305085</td>\n",
       "    </tr>\n",
       "    <tr>\n",
       "      <th>25</th>\n",
       "      <td>2019</td>\n",
       "      <td>865364.166667</td>\n",
       "    </tr>\n",
       "    <tr>\n",
       "      <th>26</th>\n",
       "      <td>2020</td>\n",
       "      <td>804844.400000</td>\n",
       "    </tr>\n",
       "  </tbody>\n",
       "</table>\n",
       "</div>"
      ],
      "text/plain": [
       "    year  selling_price\n",
       "0   1992   50000.000000\n",
       "1   1995   95000.000000\n",
       "2   1996  225000.000000\n",
       "3   1997   93000.000000\n",
       "4   1998  165111.111111\n",
       "5   1999   73888.888889\n",
       "6   2000   81500.000000\n",
       "7   2001  109562.437500\n",
       "8   2002   86111.111111\n",
       "9   2003   87090.909091\n",
       "10  2004  126697.342105\n",
       "11  2005  114821.442623\n",
       "12  2006  154182.763441\n",
       "13  2007  165282.042735\n",
       "14  2008  177668.170543\n",
       "15  2009  235467.420118\n",
       "16  2010  275584.204762\n",
       "17  2011  296028.291498\n",
       "18  2012  379352.026627\n",
       "19  2013  433046.285235\n",
       "20  2014  512850.420561\n",
       "21  2015  510051.159639\n",
       "22  2016  638342.706714\n",
       "23  2017  741184.927746\n",
       "24  2018  820420.305085\n",
       "25  2019  865364.166667\n",
       "26  2020  804844.400000"
      ]
     },
     "execution_count": 15,
     "metadata": {},
     "output_type": "execute_result"
    }
   ],
   "source": [
    "ms_year=df.groupby('year')['selling_price'].mean().reset_index()\n",
    "ms_year"
   ]
  },
  {
   "cell_type": "code",
   "execution_count": 16,
   "id": "a9dedcea",
   "metadata": {},
   "outputs": [
    {
     "data": {
      "text/plain": [
       "Text(0, 0.5, 'Average Selling Price of the car')"
      ]
     },
     "execution_count": 16,
     "metadata": {},
     "output_type": "execute_result"
    },
    {
     "data": {
      "image/png": "[encoded data removed]",
      "text/plain": [
       "<Figure size 1080x504 with 1 Axes>"
      ]
     },
     "metadata": {
      "needs_background": "light"
     },
     "output_type": "display_data"
    }
   ],
   "source": [
    "plt.figure(figsize=(15, 7))\n",
    "plt.bar(ms_year['year'], ms_year['selling_price'], color='red', edgecolor='black')\n",
    "plt.title('Average Selling Price of the car in different year', c='cyan', size=20)\n",
    "plt.xlabel('Year')\n",
    "plt.ylabel('Average Selling Price of the car')"
   ]
  },
  {
   "cell_type": "markdown",
   "id": "9ee95922",
   "metadata": {},
   "source": [
    "#### 2) depict the value counts of fuel on bar chart "
   ]
  },
  {
   "cell_type": "code",
   "execution_count": 17,
   "id": "354e6724",
   "metadata": {},
   "outputs": [
    {
     "data": {
      "text/plain": [
       "Diesel      1800\n",
       "Petrol      1717\n",
       "CNG           37\n",
       "LPG           22\n",
       "Electric       1\n",
       "Name: fuel, dtype: int64"
      ]
     },
     "execution_count": 17,
     "metadata": {},
     "output_type": "execute_result"
    }
   ],
   "source": [
    "df['fuel'].value_counts()"
   ]
  },
  {
   "cell_type": "code",
   "execution_count": 18,
   "id": "b62c50e7",
   "metadata": {},
   "outputs": [
    {
     "data": {
      "image/png": "[encoded data removed]",
      "text/plain": [
       "<Figure size 432x288 with 1 Axes>"
      ]
     },
     "metadata": {
      "needs_background": "light"
     },
     "output_type": "display_data"
    }
   ],
   "source": [
    "sns.countplot(df['fuel'])\n",
    "plt.title('Value Count vs Fuel', c='coral', size=20)\n",
    "plt.xlabel('Fuel')\n",
    "plt.ylabel('Count')\n",
    "plt.show()"
   ]
  },
  {
   "cell_type": "markdown",
   "id": "a5d2cea0",
   "metadata": {},
   "source": [
    "#### 3) find value counts of owner and depict it on bar chart"
   ]
  },
  {
   "cell_type": "code",
   "execution_count": 19,
   "id": "46d9a486",
   "metadata": {},
   "outputs": [
    {
     "data": {
      "text/plain": [
       "First Owner             2218\n",
       "Second Owner             978\n",
       "Third Owner              289\n",
       "Fourth & Above Owner      75\n",
       "Test Drive Car            17\n",
       "Name: owner, dtype: int64"
      ]
     },
     "execution_count": 19,
     "metadata": {},
     "output_type": "execute_result"
    }
   ],
   "source": [
    "df['owner'].value_counts()"
   ]
  },
  {
   "cell_type": "code",
   "execution_count": 20,
   "id": "ff40ebe2",
   "metadata": {},
   "outputs": [
    {
     "data": {
      "image/png": "[encoded data removed]",
      "text/plain": [
       "<Figure size 432x288 with 1 Axes>"
      ]
     },
     "metadata": {
      "needs_background": "light"
     },
     "output_type": "display_data"
    }
   ],
   "source": [
    "sns.countplot(df['owner'], palette='BuPu_r')\n",
    "plt.title('Value Count vs Owner', color='coral', size=20)\n",
    "plt.xlabel('Owner', c='maroon', size=20)\n",
    "plt.ylabel('Count', c='maroon', size=20)\n",
    "plt.ylabel('Count of Owner')\n",
    "plt.xticks(rotation=60)\n",
    "plt.show()"
   ]
  },
  {
   "cell_type": "markdown",
   "id": "dd2a2d25",
   "metadata": {},
   "source": [
    "#### 4) find seller type wise mean of selling price and depict in pie chart "
   ]
  },
  {
   "cell_type": "code",
   "execution_count": 21,
   "id": "fcf87004",
   "metadata": {},
   "outputs": [
    {
     "data": {
      "text/html": [
       "<div>\n",
       "<style scoped>\n",
       "    .dataframe tbody tr th:only-of-type {\n",
       "        vertical-align: middle;\n",
       "    }\n",
       "\n",
       "    .dataframe tbody tr th {\n",
       "        vertical-align: top;\n",
       "    }\n",
       "\n",
       "    .dataframe thead th {\n",
       "        text-align: right;\n",
       "    }\n",
       "</style>\n",
       "<table border=\"1\" class=\"dataframe\">\n",
       "  <thead>\n",
       "    <tr style=\"text-align: right;\">\n",
       "      <th></th>\n",
       "      <th>seller_type</th>\n",
       "      <th>selling_price</th>\n",
       "    </tr>\n",
       "  </thead>\n",
       "  <tbody>\n",
       "    <tr>\n",
       "      <th>0</th>\n",
       "      <td>Dealer</td>\n",
       "      <td>652699.390449</td>\n",
       "    </tr>\n",
       "    <tr>\n",
       "      <th>1</th>\n",
       "      <td>Individual</td>\n",
       "      <td>424904.024364</td>\n",
       "    </tr>\n",
       "    <tr>\n",
       "      <th>2</th>\n",
       "      <td>Trustmark Dealer</td>\n",
       "      <td>822272.727273</td>\n",
       "    </tr>\n",
       "  </tbody>\n",
       "</table>\n",
       "</div>"
      ],
      "text/plain": [
       "        seller_type  selling_price\n",
       "0            Dealer  652699.390449\n",
       "1        Individual  424904.024364\n",
       "2  Trustmark Dealer  822272.727273"
      ]
     },
     "execution_count": 21,
     "metadata": {},
     "output_type": "execute_result"
    }
   ],
   "source": [
    "ms_seller_type=df.groupby('seller_type')['selling_price'].mean().reset_index()\n",
    "ms_seller_type"
   ]
  },
  {
   "cell_type": "code",
   "execution_count": 22,
   "id": "17ab0dfb",
   "metadata": {},
   "outputs": [
    {
     "data": {
      "image/png": "[encoded data removed]",
      "text/plain": [
       "<Figure size 432x288 with 1 Axes>"
      ]
     },
     "metadata": {},
     "output_type": "display_data"
    }
   ],
   "source": [
    "plt.pie(data=ms_seller_type, x='selling_price', labels='seller_type', autopct='%.002f%%', shadow=True, explode=(0, 0.1, 0),\n",
    "       radius=1)\n",
    "plt.title('Average selling price of cars based on seller type', c='red', size=20)\n",
    "plt.legend(loc=2)\n",
    "plt.show()"
   ]
  },
  {
   "cell_type": "markdown",
   "id": "0fe13edc",
   "metadata": {},
   "source": [
    "#### 5) For the year between 2001 to 2010, find the sum and mean of selling price of cars based on fuel and depict it on bar chart"
   ]
  },
  {
   "cell_type": "code",
   "execution_count": 23,
   "id": "818083f4",
   "metadata": {},
   "outputs": [
    {
     "data": {
      "text/html": [
       "<div>\n",
       "<style scoped>\n",
       "    .dataframe tbody tr th:only-of-type {\n",
       "        vertical-align: middle;\n",
       "    }\n",
       "\n",
       "    .dataframe tbody tr th {\n",
       "        vertical-align: top;\n",
       "    }\n",
       "\n",
       "    .dataframe thead th {\n",
       "        text-align: right;\n",
       "    }\n",
       "</style>\n",
       "<table border=\"1\" class=\"dataframe\">\n",
       "  <thead>\n",
       "    <tr style=\"text-align: right;\">\n",
       "      <th></th>\n",
       "      <th>fuel</th>\n",
       "      <th>sum</th>\n",
       "      <th>mean</th>\n",
       "    </tr>\n",
       "  </thead>\n",
       "  <tbody>\n",
       "    <tr>\n",
       "      <th>0</th>\n",
       "      <td>CNG</td>\n",
       "      <td>425000</td>\n",
       "      <td>106250.000000</td>\n",
       "    </tr>\n",
       "    <tr>\n",
       "      <th>1</th>\n",
       "      <td>Diesel</td>\n",
       "      <td>51491988</td>\n",
       "      <td>258753.708543</td>\n",
       "    </tr>\n",
       "    <tr>\n",
       "      <th>2</th>\n",
       "      <td>Electric</td>\n",
       "      <td>310000</td>\n",
       "      <td>310000.000000</td>\n",
       "    </tr>\n",
       "    <tr>\n",
       "      <th>3</th>\n",
       "      <td>LPG</td>\n",
       "      <td>675000</td>\n",
       "      <td>96428.571429</td>\n",
       "    </tr>\n",
       "    <tr>\n",
       "      <th>4</th>\n",
       "      <td>Petrol</td>\n",
       "      <td>58772803</td>\n",
       "      <td>134800.006881</td>\n",
       "    </tr>\n",
       "  </tbody>\n",
       "</table>\n",
       "</div>"
      ],
      "text/plain": [
       "       fuel       sum           mean\n",
       "0       CNG    425000  106250.000000\n",
       "1    Diesel  51491988  258753.708543\n",
       "2  Electric    310000  310000.000000\n",
       "3       LPG    675000   96428.571429\n",
       "4    Petrol  58772803  134800.006881"
      ]
     },
     "execution_count": 23,
     "metadata": {},
     "output_type": "execute_result"
    }
   ],
   "source": [
    "y=[2002, 2003, 2004, 2005, 2006, 2007, 2008, 2009]\n",
    "ms_year_fuel=df[df['year'].isin(y)].groupby('fuel')['selling_price'].agg(['sum', 'mean']).reset_index()\n",
    "ms_year_fuel"
   ]
  },
  {
   "cell_type": "code",
   "execution_count": 24,
   "id": "a84d4c00",
   "metadata": {},
   "outputs": [
    {
     "data": {
      "text/plain": [
       "<Figure size 1080x1440 with 0 Axes>"
      ]
     },
     "metadata": {},
     "output_type": "display_data"
    },
    {
     "data": {
      "image/png": "[encoded data removed]",
      "text/plain": [
       "<Figure size 432x288 with 1 Axes>"
      ]
     },
     "metadata": {
      "needs_background": "light"
     },
     "output_type": "display_data"
    }
   ],
   "source": [
    "plt.figure(figsize=(15, 20))\n",
    "ms_year_fuel.plot.bar(x='fuel')\n",
    "plt.title('Sum and Mean of Selling Price of cars based on fuel', color='red', size=15)\n",
    "plt.xlabel('Fuel to be used in car')\n",
    "plt.ylabel('Sum and Average of Selling Price')\n",
    "sns.despine()\n",
    "plt.show()"
   ]
  },
  {
   "cell_type": "markdown",
   "id": "53c5f216",
   "metadata": {},
   "source": [
    "### Correlation"
   ]
  },
  {
   "cell_type": "code",
   "execution_count": 25,
   "id": "1f9d63b6",
   "metadata": {},
   "outputs": [
    {
     "data": {
      "text/plain": [
       "<AxesSubplot:>"
      ]
     },
     "execution_count": 25,
     "metadata": {},
     "output_type": "execute_result"
    },
    {
     "data": {
      "image/png": "[encoded data removed]",
      "text/plain": [
       "<Figure size 432x288 with 2 Axes>"
      ]
     },
     "metadata": {
      "needs_background": "light"
     },
     "output_type": "display_data"
    }
   ],
   "source": [
    "corr=df.corr()\n",
    "sns.heatmap(corr, annot=True, cmap='RdBu')"
   ]
  },
  {
   "cell_type": "code",
   "execution_count": 26,
   "id": "2de6a5eb",
   "metadata": {},
   "outputs": [
    {
     "name": "stdout",
     "output_type": "stream",
     "text": [
      "['Maruti', 'Maruti', 'Hyundai', 'Datsun', 'Honda', 'Maruti', 'Hyundai', 'Tata', 'Hyundai', 'Maruti', 'Chevrolet', 'Tata', 'Toyota', 'Maruti', 'Hyundai', 'Chevrolet', 'Jaguar', 'Mercedes-Benz', 'Maruti', 'Audi', 'Honda', 'Tata', 'Audi', 'Mercedes-Benz', 'Skoda', 'Toyota', 'Toyota', 'Jeep', 'Mercedes-Benz', 'Hyundai', 'BMW', 'Audi', 'Hyundai', 'Mahindra', 'Honda', 'Maruti', 'Maruti', 'Mahindra', 'Hyundai', 'Hyundai', 'Maruti', 'Maruti', 'Maruti', 'Hyundai', 'Maruti', 'Maruti', 'Hyundai', 'Maruti', 'Mahindra', 'Honda', 'Maruti', 'Tata', 'Hyundai', 'Toyota', 'Maruti', 'Maruti', 'Chevrolet', 'Toyota', 'Mahindra', 'Hyundai', 'Tata', 'Toyota', 'Tata', 'Maruti', 'Ford', 'Maruti', 'Honda', 'Hyundai', 'Skoda', 'Hyundai', 'Nissan', 'Hyundai', 'Hyundai', 'Honda', 'Honda', 'Hyundai', 'Mercedes-Benz', 'Mahindra', 'Renault', 'Hyundai', 'Mahindra', 'Audi', 'Fiat', 'Audi', 'Datsun', 'Volkswagen', 'Audi', 'Honda', 'Mercedes-Benz', 'BMW', 'Volvo', 'Maruti', 'BMW', 'Mahindra', 'Hyundai', 'Nissan', 'Mahindra', 'Hyundai', 'Renault', 'Mahindra', 'Maruti', 'Maruti', 'Renault', 'Hyundai', 'Maruti', 'Hyundai', 'Mahindra', 'Maruti', 'Maruti', 'Chevrolet', 'Maruti', 'Maruti', 'Maruti', 'Tata', 'Toyota', 'Maruti', 'Hyundai', 'Honda', 'Tata', 'Chevrolet', 'Chevrolet', 'Ford', 'Ford', 'Hyundai', 'Maruti', 'Chevrolet', 'Hyundai', 'Tata', 'Hyundai', 'Tata', 'Maruti', 'Hyundai', 'Hyundai', 'Hyundai', 'Maruti', 'Hyundai', 'Hyundai', 'Maruti', 'Hyundai', 'Hyundai', 'Mahindra', 'Chevrolet', 'Hyundai', 'Renault', 'Maruti', 'Maruti', 'Chevrolet', 'Chevrolet', 'Honda', 'Honda', 'Jaguar', 'Honda', 'Maruti', 'Tata', 'Hyundai', 'Chevrolet', 'Maruti', 'Maruti', 'Chevrolet', 'Renault', 'Hyundai', 'Maruti', 'Maruti', 'Maruti', 'Maruti', 'Tata', 'Hyundai', 'Skoda', 'Maruti', 'Maruti', 'Maruti', 'Hyundai', 'Tata', 'Mahindra', 'Maruti', 'Volkswagen', 'Maruti', 'Honda', 'Mercedes-Benz', 'Maruti', 'Renault', 'Ford', 'Ford', 'Maruti', 'Mahindra', 'Maruti', 'Maruti', 'Hyundai', 'Chevrolet', 'Chevrolet', 'Nissan', 'BMW', 'Chevrolet', 'Hyundai', 'Fiat', 'Renault', 'Ford', 'Maruti', 'Skoda', 'Mahindra', 'Mahindra', 'Maruti', 'Nissan', 'Maruti', 'Hyundai', 'Mercedes-Benz', 'Hyundai', 'Volkswagen', 'Maruti', 'Maruti', 'Maruti', 'Hyundai', 'Mahindra', 'Chevrolet', 'Mahindra', 'Hyundai', 'Maruti', 'Hyundai', 'Maruti', 'Maruti', 'Hyundai', 'Toyota', 'Honda', 'Toyota', 'Tata', 'Tata', 'Chevrolet', 'Tata', 'Skoda', 'Maruti', 'Ford', 'Toyota', 'Hyundai', 'Chevrolet', 'Datsun', 'Hyundai', 'Maruti', 'Maruti', 'Ford', 'Hyundai', 'Hyundai', 'Maruti', 'Hyundai', 'Tata', 'Renault', 'Maruti', 'Maruti', 'Honda', 'Hyundai', 'Maruti', 'Tata', 'Mahindra', 'Maruti', 'Maruti', 'Hyundai', 'Maruti', 'Maruti', 'Hyundai', 'Maruti', 'Mahindra', 'Hyundai', 'Maruti', 'Maruti', 'Hyundai', 'Hyundai', 'Hyundai', 'Mahindra', 'Mahindra', 'Maruti', 'Honda', 'Toyota', 'Maruti', 'Maruti', 'Mahindra', 'Mahindra', 'Mahindra', 'Tata', 'Mahindra', 'Renault', 'Hyundai', 'Maruti', 'Chevrolet', 'Maruti', 'Hyundai', 'Ford', 'Ford', 'Hyundai', 'Mahindra', 'Hyundai', 'Chevrolet', 'Honda', 'Hyundai', 'Mahindra', 'Hyundai', 'Maruti', 'Tata', 'Maruti', 'Chevrolet', 'Maruti', 'Datsun', 'Skoda', 'Maruti', 'Hyundai', 'Ford', 'BMW', 'Maruti', 'BMW', 'Toyota', 'Chevrolet', 'Mitsubishi', 'Mahindra', 'Maruti', 'Ford', 'Maruti', 'Hyundai', 'Renault', 'Maruti', 'Ford', 'Mahindra', 'Maruti', 'Tata', 'Hyundai', 'Maruti', 'Tata', 'Maruti', 'Toyota', 'Tata', 'Hyundai', 'Hyundai', 'Maruti', 'Mahindra', 'Mahindra', 'Volkswagen', 'Hyundai', 'Chevrolet', 'Maruti', 'Maruti', 'Tata', 'Maruti', 'Maruti', 'Maruti', 'Tata', 'Maruti', 'Maruti', 'Maruti', 'Maruti', 'Mahindra', 'Hyundai', 'Chevrolet', 'Ford', 'Renault', 'Maruti', 'Hyundai', 'Mahindra', 'Renault', 'Skoda', 'Mahindra', 'Chevrolet', 'Maruti', 'Chevrolet', 'Ford', 'Maruti', 'Tata', 'Maruti', 'Hyundai', 'Hyundai', 'Maruti', 'Toyota', 'Tata', 'Maruti', 'Maruti', 'Maruti', 'Maruti', 'Maruti', 'Maruti', 'Hyundai', 'Hyundai', 'Hyundai', 'Maruti', 'Tata', 'Mahindra', 'Mahindra', 'Datsun', 'Toyota', 'Ford', 'Mahindra', 'Mahindra', 'Maruti', 'Maruti', 'Ford', 'Maruti', 'Maruti', 'Mahindra', 'Maruti', 'Tata', 'Maruti', 'Toyota', 'Honda', 'Honda', 'Chevrolet', 'Chevrolet', 'Tata', 'Maruti', 'Maruti', 'Hyundai', 'Ford', 'Hyundai', 'Honda', 'Hyundai', 'Hyundai', 'Ford', 'Maruti', 'Ford', 'Volkswagen', 'Volkswagen', 'Hyundai', 'Hyundai', 'Audi', 'Renault', 'Ford', 'Honda', 'Maruti', 'Honda', 'Honda', 'Honda', 'Mahindra', 'Ford', 'Mahindra', 'Tata', 'Hyundai', 'Tata', 'Tata', 'Maruti', 'Maruti', 'Maruti', 'Renault', 'Chevrolet', 'Maruti', 'Maruti', 'Maruti', 'Tata', 'Maruti', 'Mahindra', 'Maruti', 'Maruti', 'Hyundai', 'Tata', 'Mahindra', 'Volkswagen', 'Hyundai', 'Chevrolet', 'Toyota', 'Tata', 'Hyundai', 'Maruti', 'Renault', 'Hyundai', 'Maruti', 'Maruti', 'Renault', 'Maruti', 'Ford', 'Maruti', 'Maruti', 'Volkswagen', 'Datsun', 'Chevrolet', 'Maruti', 'Maruti', 'Hyundai', 'Maruti', 'Maruti', 'Mahindra', 'Honda', 'Maruti', 'Honda', 'Hyundai', 'Toyota', 'Hyundai', 'Maruti', 'Hyundai', 'Ford', 'Fiat', 'Ford', 'Ford', 'Ford', 'Ford', 'Maruti', 'Ford', 'Ford', 'Ford', 'Mahindra', 'Ford', 'Fiat', 'Ford', 'Honda', 'Skoda', 'Maruti', 'Mahindra', 'Honda', 'Mahindra', 'Maruti', 'Tata', 'Honda', 'Maruti', 'Hyundai', 'Toyota', 'Maruti', 'Maruti', 'Maruti', 'Maruti', 'Renault', 'Toyota', 'Hyundai', 'Maruti', 'Maruti', 'Toyota', 'Mahindra', 'Renault', 'Hyundai', 'Hyundai', 'Jaguar', 'Hyundai', 'Hyundai', 'Mercedes-Benz', 'Maruti', 'Maruti', 'Hyundai', 'Volkswagen', 'Renault', 'Maruti', 'Honda', 'Maruti', 'Hyundai', 'Honda', 'Toyota', 'BMW', 'Renault', 'Mercedes-Benz', 'Audi', 'BMW', 'Hyundai', 'Maruti', 'Hyundai', 'Maruti', 'Hyundai', 'Chevrolet', 'Toyota', 'Hyundai', 'Audi', 'Hyundai', 'Skoda', 'Maruti', 'Hyundai', 'Maruti', 'Hyundai', 'Maruti', 'Mahindra', 'Chevrolet', 'Maruti', 'Tata', 'Mahindra', 'Maruti', 'Chevrolet', 'Chevrolet', 'Maruti', 'Maruti', 'Honda', 'Tata', 'Tata', 'Tata', 'Mahindra', 'Tata', 'Maruti', 'Maruti', 'Honda', 'Datsun', 'Maruti', 'Maruti', 'Maruti', 'Mahindra', 'Tata', 'Hyundai', 'Tata', 'Chevrolet', 'Ford', 'Chevrolet', 'Maruti', 'Tata', 'Hyundai', 'Hyundai', 'Hyundai', 'Mahindra', 'Maruti', 'Maruti', 'Hyundai', 'Toyota', 'Hyundai', 'Maruti', 'Honda', 'Maruti', 'Mahindra', 'Maruti', 'Honda', 'Mahindra', 'Skoda', 'Maruti', 'Tata', 'Maruti', 'Maruti', 'Maruti', 'Tata', 'Hyundai', 'Skoda', 'Maruti', 'Honda', 'Mahindra', 'Toyota', 'Hyundai', 'Chevrolet', 'Maruti', 'Maruti', 'Volkswagen', 'Hyundai', 'Renault', 'Hyundai', 'Hyundai', 'Hyundai', 'Maruti', 'Chevrolet', 'Hyundai', 'Hyundai', 'Hyundai', 'Honda', 'Maruti', 'Hyundai', 'Maruti', 'Hyundai', 'Maruti', 'Hyundai', 'Toyota', 'Volkswagen', 'Volkswagen', 'Mahindra', 'Toyota', 'Audi', 'Volkswagen', 'Skoda', 'Maruti', 'Maruti', 'Hyundai', 'Volkswagen', 'Skoda', 'Tata', 'Hyundai', 'Land', 'Tata', 'Maruti', 'Maruti', 'Maruti', 'Hyundai', 'Maruti', 'Hyundai', 'Maruti', 'Maruti', 'Tata', 'Hyundai', 'Toyota', 'Hyundai', 'Maruti', 'Maruti', 'Mahindra', 'Renault', 'Mahindra', 'Maruti', 'Hyundai', 'Maruti', 'Mahindra', 'Mahindra', 'Honda', 'Toyota', 'Maruti', 'Honda', 'Hyundai', 'Tata', 'Hyundai', 'Honda', 'Maruti', 'Hyundai', 'Maruti', 'Maruti', 'Honda', 'Maruti', 'Toyota', 'Toyota', 'Volkswagen', 'Mahindra', 'Toyota', 'Volkswagen', 'Maruti', 'Hyundai', 'Maruti', 'Tata', 'Maruti', 'Maruti', 'Maruti', 'Mahindra', 'Hyundai', 'Maruti', 'Fiat', 'Maruti', 'Maruti', 'Maruti', 'Toyota', 'Hyundai', 'Honda', 'Maruti', 'Mahindra', 'Mahindra', 'Hyundai', 'Maruti', 'Maruti', 'Ford', 'Mahindra', 'Maruti', 'Renault', 'Maruti', 'Renault', 'Hyundai', 'Maruti', 'Mahindra', 'Mahindra', 'Toyota', 'Maruti', 'Toyota', 'Maruti', 'Mahindra', 'Mahindra', 'Hyundai', 'Chevrolet', 'Renault', 'Maruti', 'Maruti', 'Fiat', 'Hyundai', 'Hyundai', 'Fiat', 'Maruti', 'Hyundai', 'Maruti', 'Tata', 'Mahindra', 'Hyundai', 'Honda', 'Tata', 'Ford', 'Tata', 'Hyundai', 'Mercedes-Benz', 'Hyundai', 'Toyota', 'Ford', 'Maruti', 'Tata', 'Mahindra', 'Toyota', 'Renault', 'Mahindra', 'Maruti', 'Hyundai', 'Toyota', 'Maruti', 'Hyundai', 'Tata', 'Hyundai', 'Maruti', 'Maruti', 'Tata', 'Maruti', 'Honda', 'Hyundai', 'Hyundai', 'Ford', 'Maruti', 'Hyundai', 'Maruti', 'Maruti', 'Hyundai', 'Tata', 'Hyundai', 'Hyundai', 'Nissan', 'Hyundai', 'Hyundai', 'Tata', 'Maruti', 'Maruti', 'Mahindra', 'Tata', 'Chevrolet', 'Mahindra', 'Maruti', 'Maruti', 'Hyundai', 'Maruti', 'Toyota', 'Nissan', 'Maruti', 'Nissan', 'Toyota', 'Hyundai', 'Renault', 'Mahindra', 'Hyundai', 'Hyundai', 'Maruti', 'Maruti', 'Toyota', 'Volkswagen', 'Tata', 'Honda', 'Volkswagen', 'Volkswagen', 'Honda', 'Maruti', 'Maruti', 'Hyundai', 'Volkswagen', 'Hyundai', 'Hyundai', 'Hyundai', 'Hyundai', 'Tata', 'Toyota', 'Maruti', 'Hyundai', 'Volkswagen', 'Skoda', 'Hyundai', 'Renault', 'Mahindra', 'Ford', 'Audi', 'Mahindra', 'Maruti', 'Maruti', 'Audi', 'Maruti', 'Chevrolet', 'Hyundai', 'Maruti', 'BMW', 'Toyota', 'Hyundai', 'Hyundai', 'Mahindra', 'Maruti', 'Mahindra', 'Toyota', 'Mahindra', 'Maruti', 'Hyundai', 'Tata', 'Honda', 'Maruti', 'Maruti', 'Mahindra', 'Fiat', 'Hyundai', 'Ford', 'Tata', 'Land', 'Maruti', 'Hyundai', 'Maruti', 'Mahindra', 'Hyundai', 'Hyundai', 'Tata', 'Hyundai', 'Ford', 'Hyundai', 'Hyundai', 'Hyundai', 'Hyundai', 'Maruti', 'Hyundai', 'Tata', 'Ford', 'Mahindra', 'Mitsubishi', 'Ford', 'BMW', 'Honda', 'Chevrolet', 'BMW', 'Maruti', 'Maruti', 'Hyundai', 'Maruti', 'Mahindra', 'Hyundai', 'Honda', 'Maruti', 'Ford', 'Tata', 'Nissan', 'Maruti', 'Maruti', 'Ford', 'Skoda', 'Hyundai', 'Tata', 'Tata', 'Maruti', 'Mahindra', 'Mahindra', 'Mahindra', 'Mahindra', 'Skoda', 'Chevrolet', 'Honda', 'Honda', 'Maruti', 'Maruti', 'Maruti', 'Renault', 'Audi', 'Honda', 'Toyota', 'Honda', 'Maruti', 'Honda', 'Honda', 'Hyundai', 'Mahindra', 'Maruti', 'Maruti', 'Renault', 'Audi', 'Tata', 'Audi', 'Audi', 'Hyundai', 'Ford', 'Datsun', 'Mahindra', 'Renault', 'Hyundai', 'Land', 'Renault', 'Maruti', 'Volkswagen', 'Toyota', 'Chevrolet', 'Honda', 'Volkswagen', 'Tata', 'Hyundai', 'Tata', 'Honda', 'Tata', 'Tata', 'Tata', 'Ford', 'Ford', 'Honda', 'Maruti', 'Mercedes-Benz', 'Toyota', 'Maruti', 'Maruti', 'Tata', 'Maruti', 'Mahindra', 'Toyota', 'Hyundai', 'Toyota', 'Maruti', 'Hyundai', 'Mahindra', 'Hyundai', 'Mahindra', 'Hyundai', 'Hyundai', 'Chevrolet', 'Mahindra', 'Maruti', 'Maruti', 'Honda', 'Mahindra', 'Maruti', 'Maruti', 'Hyundai', 'Hyundai', 'Skoda', 'Hyundai', 'Ford', 'Maruti', 'Maruti', 'Volkswagen', 'Maruti', 'Hyundai', 'Honda', 'Maruti', 'Hyundai', 'Maruti', 'Honda', 'Maruti', 'Hyundai', 'Hyundai', 'Nissan', 'Tata', 'Hyundai', 'Mahindra', 'BMW', 'Mahindra', 'Maruti', 'Maruti', 'Maruti', 'Maruti', 'Maruti', 'Maruti', 'Chevrolet', 'Tata', 'Renault', 'Maruti', 'Maruti', 'Toyota', 'Mahindra', 'Maruti', 'Mahindra', 'Maruti', 'Maruti', 'Hyundai', 'Renault', 'Hyundai', 'Tata', 'Maruti', 'Volkswagen', 'Maruti', 'Maruti', 'Maruti', 'Maruti', 'Renault', 'Tata', 'Hyundai', 'Hyundai', 'Maruti', 'Hyundai', 'Maruti', 'Hyundai', 'Hyundai', 'Maruti', 'Maruti', 'Hyundai', 'Hyundai', 'Maruti', 'Maruti', 'Hyundai', 'Toyota', 'Mahindra', 'Maruti', 'Maruti', 'Hyundai', 'Maruti', 'Maruti', 'Maruti', 'Mahindra', 'Tata', 'Mahindra', 'Tata', 'Toyota', 'Mahindra', 'Mahindra', 'Tata', 'Hyundai', 'Maruti', 'Maruti', 'Chevrolet', 'Ford', 'Maruti', 'Maruti', 'Tata', 'Tata', 'Tata', 'Maruti', 'Hyundai', 'Maruti', 'Tata', 'Nissan', 'Hyundai', 'Renault', 'Volkswagen', 'Maruti', 'Chevrolet', 'Honda', 'Chevrolet', 'Chevrolet', 'Honda', 'Honda', 'Maruti', 'Honda', 'Maruti', 'Maruti', 'Maruti', 'Maruti', 'Mahindra', 'Datsun', 'Hyundai', 'Chevrolet', 'Toyota', 'Hyundai', 'Tata', 'Hyundai', 'Nissan', 'Datsun', 'Maruti', 'Tata', 'Ford', 'Hyundai', 'Volkswagen', 'Toyota', 'Chevrolet', 'Ford', 'Ford', 'Toyota', 'Ford', 'Hyundai', 'Maruti', 'Toyota', 'Maruti', 'Toyota', 'Toyota', 'Renault', 'Volkswagen', 'Volkswagen', 'Ford', 'Honda', 'Maruti', 'Hyundai', 'Maruti', 'Tata', 'Hyundai', 'Volkswagen', 'Mercedes-Benz', 'Toyota', 'Toyota', 'Maruti', 'Mahindra', 'Volkswagen', 'Maruti', 'Volkswagen', 'Tata', 'Tata', 'Maruti', 'Honda', 'Volkswagen', 'Chevrolet', 'Mahindra', 'Mahindra', 'Maruti', 'Mahindra', 'Maruti', 'Tata', 'Maruti', 'Maruti', 'Tata', 'Toyota', 'Mahindra', 'Toyota', 'Maruti', 'Mahindra', 'Maruti', 'Tata', 'Maruti', 'Tata', 'Tata', 'Maruti', 'Mahindra', 'Skoda', 'Maruti', 'Jeep', 'Tata', 'Ford', 'Volkswagen', 'Ford', 'Skoda', 'Maruti', 'Mahindra', 'Mahindra', 'Hyundai', 'Mahindra', 'Hyundai', 'Maruti', 'Ford', 'Maruti', 'Hyundai', 'Maruti', 'Maruti', 'Maruti', 'Maruti', 'Maruti', 'Ford', 'Hyundai', 'Hyundai', 'Maruti', 'Maruti', 'Renault', 'Mahindra', 'Maruti', 'Hyundai', 'Maruti', 'Nissan', 'Nissan', 'Maruti', 'Maruti', 'Honda', 'Maruti', 'Toyota', 'Maruti', 'Maruti', 'Honda', 'Maruti', 'Maruti', 'Maruti', 'Honda', 'Tata', 'Maruti', 'Mahindra', 'Renault', 'Honda', 'Maruti', 'Nissan', 'Maruti', 'Honda', 'Honda', 'Maruti', 'Toyota', 'Tata', 'Mahindra', 'Hyundai', 'Hyundai', 'Maruti', 'Maruti', 'Hyundai', 'Maruti', 'Maruti', 'Hyundai', 'Honda', 'Tata', 'Tata', 'Ford', 'Ford', 'Mahindra', 'Maruti', 'Hyundai', 'Maruti', 'Maruti', 'Mahindra', 'Maruti', 'Maruti', 'Honda', 'Honda', 'Hyundai', 'Maruti', 'Volkswagen', 'Audi', 'Hyundai', 'Hyundai', 'Mahindra', 'Skoda', 'Maruti', 'Ford', 'Jaguar', 'Maruti', 'Chevrolet', 'Hyundai', 'Toyota', 'Maruti', 'Hyundai', 'Hyundai', 'Nissan', 'Mahindra', 'Toyota', 'Hyundai', 'Chevrolet', 'Maruti', 'Maruti', 'Hyundai', 'Tata', 'Hyundai', 'Hyundai', 'Hyundai', 'Tata', 'Hyundai', 'Maruti', 'Mahindra', 'Toyota', 'Chevrolet', 'Hyundai', 'Hyundai', 'Maruti', 'Maruti', 'Toyota', 'Renault', 'Mahindra', 'Daewoo', 'Toyota', 'Ford', 'Tata', 'Toyota', 'Mahindra', 'Honda', 'Maruti', 'Tata', 'Hyundai', 'Tata', 'Audi', 'Chevrolet', 'Hyundai', 'Mahindra', 'Datsun', 'Tata', 'Skoda', 'Nissan', 'BMW', 'Chevrolet', 'Honda', 'Mahindra', 'Honda', 'Honda', 'MG', 'Audi', 'Renault', 'Chevrolet', 'Skoda', 'Hyundai', 'Mahindra', 'Maruti', 'Renault', 'Ford', 'Maruti', 'Maruti', 'Skoda', 'Nissan', 'Chevrolet', 'Chevrolet', 'Hyundai', 'Maruti', 'Tata', 'Tata', 'Mahindra', 'Toyota', 'Maruti', 'Mercedes-Benz', 'Tata', 'Maruti', 'Ford', 'Maruti', 'Volkswagen', 'Tata', 'Maruti', 'Tata', 'Renault', 'Ford', 'Renault', 'Skoda', 'Hyundai', 'Maruti', 'Maruti', 'Maruti', 'Chevrolet', 'Toyota', 'Mahindra', 'Jaguar', 'Honda', 'Maruti', 'Mahindra', 'Honda', 'Hyundai', 'Maruti', 'Tata', 'Maruti', 'Force', 'Mahindra', 'Hyundai', 'Hyundai', 'Maruti', 'Hyundai', 'Maruti', 'Maruti', 'Skoda', 'Chevrolet', 'Tata', 'Hyundai', 'Tata', 'Maruti', 'Maruti', 'Honda', 'Tata', 'Mahindra', 'Mahindra', 'Toyota', 'Honda', 'Maruti', 'Hyundai', 'Honda', 'Maruti', 'Maruti', 'Hyundai', 'Volkswagen', 'Fiat', 'Maruti', 'Hyundai', 'Volkswagen', 'Maruti', 'Renault', 'Maruti', 'Maruti', 'Maruti', 'Mahindra', 'Mahindra', 'Hyundai', 'Toyota', 'Maruti', 'Hyundai', 'Ford', 'Honda', 'Chevrolet', 'Maruti', 'Honda', 'Maruti', 'Mahindra', 'Maruti', 'Mahindra', 'Hyundai', 'Maruti', 'Maruti', 'Tata', 'Maruti', 'Renault', 'Tata', 'Tata', 'Maruti', 'Honda', 'Hyundai', 'Mahindra', 'Hyundai', 'Hyundai', 'Volkswagen', 'Maruti', 'Maruti', 'Maruti', 'Honda', 'Hyundai', 'Ford', 'Toyota', 'Maruti', 'Toyota', 'Hyundai', 'Maruti', 'Maruti', 'Maruti', 'Toyota', 'Hyundai', 'Hyundai', 'Toyota', 'Maruti', 'Volkswagen', 'Maruti', 'Hyundai', 'Maruti', 'Chevrolet', 'Maruti', 'Mahindra', 'Ford', 'Honda', 'Maruti', 'Maruti', 'Maruti', 'Maruti', 'Hyundai', 'Hyundai', 'Tata', 'Chevrolet', 'Tata', 'BMW', 'Hyundai', 'Hyundai', 'Mahindra', 'Chevrolet', 'Datsun', 'Skoda', 'Chevrolet', 'Maruti', 'Maruti', 'Toyota', 'Renault', 'Renault', 'Maruti', 'Maruti', 'Toyota', 'Mahindra', 'Maruti', 'Hyundai', 'Ford', 'Mahindra', 'Volkswagen', 'Maruti', 'Maruti', 'Hyundai', 'Tata', 'Maruti', 'Toyota', 'Honda', 'Maruti', 'Maruti', 'Maruti', 'Chevrolet', 'Ford', 'Toyota', 'Hyundai', 'Datsun', 'Tata', 'Maruti', 'Mahindra', 'Maruti', 'Maruti', 'Maruti', 'Hyundai', 'Maruti', 'Mahindra', 'Maruti', 'Maruti', 'Toyota', 'Maruti', 'Audi', 'Hyundai', 'Mahindra', 'Maruti', 'Maruti', 'Hyundai', 'Maruti', 'Maruti', 'Maruti', 'Ford', 'Ford', 'Ford', 'Ford', 'Hyundai', 'Ford', 'Maruti', 'Maruti', 'Hyundai', 'Tata', 'Toyota', 'Toyota', 'Maruti', 'Maruti', 'Mahindra', 'Maruti', 'Maruti', 'Maruti', 'Hyundai', 'Tata', 'Renault', 'Maruti', 'Honda', 'Hyundai', 'Hyundai', 'Maruti', 'Maruti', 'Maruti', 'Tata', 'Mahindra', 'Maruti', 'Hyundai', 'Maruti', 'Nissan', 'Hyundai', 'Hyundai', 'Mahindra', 'Maruti', 'Hyundai', 'Hyundai', 'Hyundai', 'Maruti', 'Honda', 'Hyundai', 'Datsun', 'Tata', 'Maruti', 'Hyundai', 'Mahindra', 'Chevrolet', 'Hyundai', 'Mahindra', 'Ford', 'Renault', 'Mahindra', 'Tata', 'Honda', 'Ford', 'Ford', 'Ford', 'Ford', 'Ford', 'Ford', 'Ford', 'Ford', 'Tata', 'Renault', 'Mahindra', 'Mahindra', 'Maruti', 'Honda', 'Hyundai', 'Mahindra', 'Tata', 'Maruti', 'Volkswagen', 'Nissan', 'Ford', 'Mahindra', 'Mahindra', 'Mahindra', 'Maruti', 'Maruti', 'Mahindra', 'Tata', 'Maruti', 'Ford', 'Hyundai', 'Ford', 'Maruti', 'Renault', 'Maruti', 'Volkswagen', 'Ford', 'Mercedes-Benz', 'Mahindra', 'Hyundai', 'Mahindra', 'Maruti', 'Maruti', 'Maruti', 'Tata', 'Maruti', 'Chevrolet', 'Hyundai', 'Ford', 'Mahindra', 'Renault', 'Volkswagen', 'Mahindra', 'Toyota', 'Maruti', 'Mahindra', 'Tata', 'Chevrolet', 'Maruti', 'Tata', 'Tata', 'Fiat', 'Maruti', 'Maruti', 'Maruti', 'Volkswagen', 'Mahindra', 'Tata', 'Maruti', 'Mitsubishi', 'Maruti', 'Mahindra', 'Maruti', 'Hyundai', 'Maruti', 'Maruti', 'Maruti', 'Mahindra', 'Maruti', 'Tata', 'Tata', 'Toyota', 'Maruti', 'Tata', 'Hyundai', 'Maruti', 'Hyundai', 'Renault', 'Hyundai', 'Maruti', 'Maruti', 'Ford', 'Ford', 'Ford', 'Ford', 'Maruti', 'Datsun', 'Maruti', 'Chevrolet', 'Hyundai', 'Skoda', 'Maruti', 'Maruti', 'Tata', 'Ford', 'Renault', 'Tata', 'Tata', 'Maruti', 'Maruti', 'Maruti', 'Maruti', 'Mahindra', 'Tata', 'Renault', 'Hyundai', 'Maruti', 'Fiat', 'Hyundai', 'Hyundai', 'Tata', 'Maruti', 'Maruti', 'Mahindra', 'Mahindra', 'Maruti', 'Tata', 'Hyundai', 'Maruti', 'Maruti', 'Honda', 'Maruti', 'Maruti', 'Tata', 'Maruti', 'Honda', 'Maruti', 'Hyundai', 'Tata', 'Maruti', 'Hyundai', 'Ford', 'Chevrolet', 'Maruti', 'Volkswagen', 'Tata', 'Hyundai', 'Ford', 'Chevrolet', 'Tata', 'Tata', 'Mahindra', 'Hyundai', 'Honda', 'Hyundai', 'Maruti', 'Maruti', 'Ford', 'Maruti', 'Mahindra', 'Tata', 'Mahindra', 'Hyundai', 'Maruti', 'Toyota', 'Tata', 'Maruti', 'Maruti', 'Chevrolet', 'Hyundai', 'Tata', 'Ford', 'Hyundai', 'Toyota', 'Mahindra', 'Maruti', 'Chevrolet', 'Mahindra', 'Maruti', 'Maruti', 'Maruti', 'Maruti', 'Ford', 'Ford', 'Maruti', 'Hyundai', 'Toyota', 'Maruti', 'Maruti', 'Chevrolet', 'Tata', 'Volkswagen', 'Hyundai', 'Chevrolet', 'Mahindra', 'Skoda', 'Maruti', 'Tata', 'Maruti', 'Tata', 'Maruti', 'Hyundai', 'Tata', 'Skoda', 'Maruti', 'Mahindra', 'Hyundai', 'Tata', 'Mahindra', 'Mahindra', 'Maruti', 'Hyundai', 'Hyundai', 'Tata', 'Volkswagen', 'Maruti', 'Hyundai', 'Mercedes-Benz', 'Maruti', 'Tata', 'Hyundai', 'Maruti', 'Maruti', 'Renault', 'Hyundai', 'Ford', 'Maruti', 'Tata', 'Toyota', 'Mahindra', 'Maruti', 'Tata', 'Tata', 'Maruti', 'Renault', 'Maruti', 'Maruti', 'Hyundai', 'Maruti', 'Hyundai', 'Mahindra', 'Tata', 'Chevrolet', 'Maruti', 'Hyundai', 'Maruti', 'Hyundai', 'Honda', 'Honda', 'Hyundai', 'Hyundai', 'Hyundai', 'Hyundai', 'Mahindra', 'Hyundai', 'Hyundai', 'Hyundai', 'Renault', 'Maruti', 'Maruti', 'Hyundai', 'Hyundai', 'Maruti', 'Maruti', 'Hyundai', 'Hyundai', 'Honda', 'Hyundai', 'Maruti', 'Maruti', 'Maruti', 'Ford', 'Hyundai', 'Hyundai', 'Tata', 'Toyota', 'Hyundai', 'Hyundai', 'Tata', 'Ford', 'Hyundai', 'Mahindra', 'Mahindra', 'Maruti', 'Honda', 'Honda', 'Maruti', 'Mahindra', 'Ford', 'Chevrolet', 'Tata', 'Tata', 'Tata', 'Maruti', 'Isuzu', 'Skoda', 'Nissan', 'Maruti', 'Maruti', 'Mahindra', 'Maruti', 'Volkswagen', 'Maruti', 'Mahindra', 'Renault', 'Hyundai', 'Maruti', 'Mahindra', 'Maruti', 'Chevrolet', 'Ford', 'Hyundai', 'Tata', 'Ford', 'Maruti', 'Hyundai', 'Hyundai', 'Honda', 'Hyundai', 'Hyundai', 'Hyundai', 'Maruti', 'Nissan', 'Mahindra', 'Tata', 'Hyundai', 'Hyundai', 'Hyundai', 'Renault', 'Tata', 'Maruti', 'Maruti', 'OpelCorsa', 'Hyundai', 'Chevrolet', 'Mahindra', 'Hyundai', 'Honda', 'Datsun', 'Hyundai', 'Maruti', 'Hyundai', 'Mahindra', 'Renault', 'Maruti', 'Chevrolet', 'Hyundai', 'Honda', 'Honda', 'Ford', 'Maruti', 'Maruti', 'Chevrolet', 'Chevrolet', 'Honda', 'Ford', 'Hyundai', 'Renault', 'Maruti', 'Maruti', 'Toyota', 'Maruti', 'Chevrolet', 'Maruti', 'Datsun', 'Hyundai', 'Renault', 'Tata', 'Maruti', 'Tata', 'Hyundai', 'Nissan', 'Mahindra', 'Hyundai', 'Hyundai', 'Nissan', 'Honda', 'Mercedes-Benz', 'Maruti', 'BMW', 'Hyundai', 'Audi', 'Hyundai', 'Datsun', 'Renault', 'Toyota', 'Honda', 'Volkswagen', 'Mahindra', 'Ford', 'Chevrolet', 'Maruti', 'Tata', 'Ford', 'Tata', 'Hyundai', 'Maruti', 'Maruti', 'Honda', 'Renault', 'Renault', 'Renault', 'Maruti', 'Maruti', 'Maruti', 'Maruti', 'Hyundai', 'Hyundai', 'Toyota', 'Maruti', 'Mercedes-Benz', 'Mahindra', 'Skoda', 'Toyota', 'Toyota', 'Toyota', 'Mahindra', 'Hyundai', 'Hyundai', 'Volkswagen', 'Renault', 'Hyundai', 'Ford', 'Renault', 'Maruti', 'Nissan', 'Maruti', 'Tata', 'Toyota', 'Maruti', 'Maruti', 'Renault', 'Maruti', 'Toyota', 'Maruti', 'Tata', 'Hyundai', 'Maruti', 'Tata', 'Maruti', 'Maruti', 'Maruti', 'Maruti', 'Mahindra', 'Maruti', 'Chevrolet', 'Maruti', 'Renault', 'Maruti', 'Maruti', 'Hyundai', 'Chevrolet', 'Maruti', 'Maruti', 'Toyota', 'Maruti', 'Maruti', 'Hyundai', 'Maruti', 'Maruti', 'Ford', 'Toyota', 'Mahindra', 'Mahindra', 'Honda', 'Honda', 'Honda', 'Honda', 'Maruti', 'Maruti', 'Honda', 'Maruti', 'Honda', 'Hyundai', 'Mahindra', 'Hyundai', 'Toyota', 'Toyota', 'Hyundai', 'Toyota', 'Toyota', 'Maruti', 'Mahindra', 'Renault', 'Maruti', 'Honda', 'Honda', 'Maruti', 'Maruti', 'Honda', 'Maruti', 'Honda', 'Hyundai', 'Maruti', 'Honda', 'Maruti', 'Mahindra', 'Tata', 'Maruti', 'Maruti', 'Hyundai', 'Mahindra', 'Mahindra', 'Maruti', 'Maruti', 'Mahindra', 'Fiat', 'Renault', 'Fiat', 'Tata', 'Mahindra', 'Tata', 'Hyundai', 'Honda', 'Maruti', 'Hyundai', 'Mahindra', 'Maruti', 'Chevrolet', 'Maruti', 'Tata', 'Hyundai', 'Tata', 'Hyundai', 'Hyundai', 'Tata', 'Hyundai', 'Maruti', 'Hyundai', 'Ford', 'Chevrolet', 'Maruti', 'Chevrolet', 'BMW', 'Chevrolet', 'Maruti', 'Ford', 'Chevrolet', 'Honda', 'Hyundai', 'Maruti', 'Mahindra', 'Maruti', 'Maruti', 'Mitsubishi', 'Tata', 'Hyundai', 'Ford', 'Hyundai', 'Nissan', 'Maruti', 'Maruti', 'Maruti', 'Tata', 'Maruti', 'Maruti', 'Maruti', 'Hyundai', 'Tata', 'Maruti', 'Maruti', 'Fiat', 'Hyundai', 'Ford', 'Ford', 'Ford', 'Honda', 'Honda', 'Honda', 'Maruti', 'Tata', 'Maruti', 'Chevrolet', 'Maruti', 'Maruti', 'Tata', 'Hyundai', 'Hyundai', 'Chevrolet', 'Volkswagen', 'Mahindra', 'Maruti', 'Toyota', 'Tata', 'Maruti', 'Mahindra', 'Mahindra', 'Maruti', 'Chevrolet', 'Hyundai', 'Maruti', 'Honda', 'Toyota', 'BMW', 'Mahindra', 'Hyundai', 'Chevrolet', 'Hyundai', 'Tata', 'Honda', 'Hyundai', 'Hyundai', 'Volkswagen', 'Hyundai', 'Hyundai', 'Hyundai', 'Maruti', 'Mahindra', 'Renault', 'Ford', 'Fiat', 'Volkswagen', 'Ford', 'Chevrolet', 'Chevrolet', 'Ford', 'Ford', 'Ford', 'Hyundai', 'Tata', 'Maruti', 'Chevrolet', 'Chevrolet', 'Ford', 'Volkswagen', 'Ford', 'Mahindra', 'Honda', 'Maruti', 'Maruti', 'Maruti', 'Maruti', 'Maruti', 'Mahindra', 'Maruti', 'Maruti', 'Maruti', 'Maruti', 'Volkswagen', 'Maruti', 'Hyundai', 'Ford', 'Hyundai', 'Maruti', 'Mahindra', 'Mahindra', 'Mahindra', 'Toyota', 'Ford', 'Tata', 'Maruti', 'Maruti', 'Hyundai', 'Chevrolet', 'Ford', 'Tata', 'Ford', 'Maruti', 'Maruti', 'Tata', 'Maruti', 'Maruti', 'Mahindra', 'Tata', 'Renault', 'Toyota', 'Hyundai', 'Fiat', 'Renault', 'Hyundai', 'Maruti', 'Audi', 'Hyundai', 'Tata', 'Renault', 'Skoda', 'Maruti', 'Hyundai', 'Hyundai', 'Ford', 'Nissan', 'Maruti', 'Toyota', 'Maruti', 'Maruti', 'Mahindra', 'Renault', 'Maruti', 'Hyundai', 'Maruti', 'Toyota', 'Mahindra', 'Maruti', 'Maruti', 'Maruti', 'Hyundai', 'Honda', 'Hyundai', 'Honda', 'Volkswagen', 'Maruti', 'Toyota', 'Maruti', 'Hyundai', 'Mahindra', 'Mahindra', 'Tata', 'Hyundai', 'Honda', 'Hyundai', 'Hyundai', 'Chevrolet', 'Tata', 'Maruti', 'Hyundai', 'Hyundai', 'Tata', 'Honda', 'Maruti', 'Ford', 'Maruti', 'Hyundai', 'Maruti', 'Maruti', 'Tata', 'Tata', 'Tata', 'Ford', 'Maruti', 'Maruti', 'Maruti', 'Toyota', 'Nissan', 'Nissan', 'Toyota', 'Toyota', 'Honda', 'Maruti', 'Hyundai', 'Chevrolet', 'Maruti', 'Maruti', 'Hyundai', 'Honda', 'Maruti', 'Toyota', 'Hyundai', 'Fiat', 'Ford', 'Ford', 'Maruti', 'Honda', 'Maruti', 'Tata', 'Tata', 'Volkswagen', 'Ford', 'Toyota', 'Mahindra', 'Honda', 'Honda', 'Honda', 'Maruti', 'Maruti', 'BMW', 'Maruti', 'Hyundai', 'Tata', 'Hyundai', 'Maruti', 'Toyota', 'Hyundai', 'Maruti', 'Skoda', 'Audi', 'Hyundai', 'Hyundai', 'Mahindra', 'Mahindra', 'Maruti', 'Maruti', 'Hyundai', 'Hyundai', 'Mahindra', 'Nissan', 'Mahindra', 'Tata', 'Tata', 'Nissan', 'Nissan', 'Maruti', 'Hyundai', 'Hyundai', 'Maruti', 'Ford', 'Hyundai', 'Maruti', 'Maruti', 'Mahindra', 'Nissan', 'BMW', 'Honda', 'Maruti', 'Honda', 'Volkswagen', 'Honda', 'Honda', 'Tata', 'Honda', 'Honda', 'Hyundai', 'Maruti', 'Hyundai', 'Mahindra', 'Hyundai', 'Maruti', 'Toyota', 'Maruti', 'Nissan', 'Maruti', 'Nissan', 'Maruti', 'Tata', 'Volvo', 'Toyota', 'Hyundai', 'Maruti', 'Hyundai', 'Maruti', 'Maruti', 'Maruti', 'Maruti', 'Ambassador', 'Maruti', 'Ford', 'Hyundai', 'Chevrolet', 'Fiat', 'Chevrolet', 'Ford', 'Skoda', 'Hyundai', 'Tata', 'Chevrolet', 'Volkswagen', 'Ford', 'Honda', 'Chevrolet', 'Maruti', 'Honda', 'Honda', 'Hyundai', 'Honda', 'Hyundai', 'Maruti', 'Maruti', 'Maruti', 'Mahindra', 'Maruti', 'Maruti', 'Maruti', 'Ford', 'BMW', 'Mahindra', 'Honda', 'Tata', 'Hyundai', 'Maruti', 'Mahindra', 'Maruti', 'Ford', 'Maruti', 'Hyundai', 'Hyundai', 'Chevrolet', 'Maruti', 'Hyundai', 'Mahindra', 'Mahindra', 'Tata', 'Tata', 'Hyundai', 'Volkswagen', 'Hyundai', 'Maruti', 'Tata', 'Toyota', 'Volkswagen', 'Hyundai', 'Maruti', 'Maruti', 'Maruti', 'Mahindra', 'Skoda', 'Maruti', 'Maruti', 'Maruti', 'Toyota', 'Ford', 'Hyundai', 'Maruti', 'Maruti', 'Maruti', 'Mahindra', 'Maruti', 'Maruti', 'Maruti', 'Tata', 'Maruti', 'Skoda', 'Hyundai', 'Hyundai', 'Tata', 'Maruti', 'Maruti', 'Hyundai', 'Hyundai', 'Tata', 'Ford', 'Hyundai', 'Honda', 'Maruti', 'Maruti', 'Renault', 'Mahindra', 'Mahindra', 'Maruti', 'Tata', 'Maruti', 'Hyundai', 'Hyundai', 'Chevrolet', 'Toyota', 'Volkswagen', 'Maruti', 'Maruti', 'Hyundai', 'Tata', 'Maruti', 'Tata', 'Toyota', 'Chevrolet', 'Fiat', 'Honda', 'Mahindra', 'Mahindra', 'Tata', 'Maruti', 'Renault', 'Maruti', 'Maruti', 'Hyundai', 'Tata', 'Maruti', 'Skoda', 'Mahindra', 'Maruti', 'Maruti', 'Maruti', 'Kia', 'Hyundai', 'Maruti', 'Toyota', 'Maruti', 'Ford', 'Hyundai', 'Maruti', 'Tata', 'Maruti', 'Maruti', 'Mahindra', 'Maruti', 'Maruti', 'Maruti', 'Ford', 'Tata', 'Ford', 'Ford', 'Ford', 'Honda', 'Honda', 'Maruti', 'Ford', 'Maruti', 'Hyundai', 'Hyundai', 'Volkswagen', 'Maruti', 'Hyundai', 'Hyundai', 'Maruti', 'Hyundai', 'Skoda', 'Ford', 'Audi', 'Chevrolet', 'Maruti', 'Maruti', 'Maruti', 'Tata', 'Maruti', 'Maruti', 'Maruti', 'Honda', 'Maruti', 'Hyundai', 'Audi', 'Maruti', 'Maruti', 'Chevrolet', 'Maruti', 'Maruti', 'Hyundai', 'Chevrolet', 'Maruti', 'Hyundai', 'Tata', 'Hyundai', 'Mahindra', 'Hyundai', 'Maruti', 'Tata', 'Maruti', 'Maruti', 'Maruti', 'Ford', 'Chevrolet', 'Hyundai', 'Volkswagen', 'BMW', 'Maruti', 'Maruti', 'Hyundai', 'Maruti', 'Maruti', 'Volkswagen', 'Tata', 'Hyundai', 'Maruti', 'Maruti', 'Skoda', 'Chevrolet', 'Mahindra', 'Maruti', 'Maruti', 'Honda', 'Maruti', 'Maruti', 'Maruti', 'Maruti', 'Maruti', 'Maruti', 'Mahindra', 'Maruti', 'Maruti', 'Hyundai', 'Nissan', 'Ford', 'Hyundai', 'Maruti', 'Maruti', 'Mahindra', 'Datsun', 'Hyundai', 'Ford', 'Toyota', 'Maruti', 'Toyota', 'Tata', 'Mahindra', 'Maruti', 'Maruti', 'Maruti', 'Maruti', 'Hyundai', 'Maruti', 'Hyundai', 'Maruti', 'Maruti', 'Hyundai', 'Maruti', 'Maruti', 'Volkswagen', 'Tata', 'Maruti', 'Honda', 'Tata', 'Maruti', 'Nissan', 'Maruti', 'Ford', 'Volkswagen', 'Renault', 'OpelCorsa', 'Mahindra', 'Maruti', 'Maruti', 'Maruti', 'Toyota', 'Volkswagen', 'Honda', 'Volkswagen', 'Maruti', 'Toyota', 'Maruti', 'Tata', 'Mahindra', 'Maruti', 'Tata', 'Tata', 'Tata', 'Toyota', 'Toyota', 'Ford', 'Maruti', 'Honda', 'Tata', 'Tata', 'Chevrolet', 'Tata', 'Hyundai', 'Chevrolet', 'Maruti', 'Renault', 'Maruti', 'Ford', 'Hyundai', 'Ford', 'Maruti', 'Ford', 'Mahindra', 'Maruti', 'Mahindra', 'Hyundai', 'Tata', 'Honda', 'Maruti', 'Hyundai', 'Datsun', 'Datsun', 'Maruti', 'Hyundai', 'Chevrolet', 'Mahindra', 'Tata', 'Maruti', 'Hyundai', 'Maruti', 'Maruti', 'Tata', 'Mahindra', 'Hyundai', 'Honda', 'Hyundai', 'Toyota', 'Maruti', 'Mahindra', 'Hyundai', 'Mahindra', 'Tata', 'Maruti', 'Renault', 'Volvo', 'Maruti', 'Toyota', 'Tata', 'Maruti', 'Tata', 'Hyundai', 'Hyundai', 'Tata', 'Volkswagen', 'Maruti', 'Maruti', 'Hyundai', 'Hyundai', 'Maruti', 'Maruti', 'Maruti', 'Hyundai', 'Chevrolet', 'Renault', 'Hyundai', 'Maruti', 'Honda', 'Datsun', 'Mercedes-Benz', 'Hyundai', 'Honda', 'Hyundai', 'Hyundai', 'Hyundai', 'Honda', 'Mahindra', 'Tata', 'Honda', 'Maruti', 'Maruti', 'Maruti', 'Tata', 'Hyundai', 'Hyundai', 'Nissan', 'Honda', 'Hyundai', 'Maruti', 'Hyundai', 'Chevrolet', 'Hyundai', 'Maruti', 'Maruti', 'Maruti', 'Volkswagen', 'Honda', 'Hyundai', 'Datsun', 'Chevrolet', 'Hyundai', 'Maruti', 'Hyundai', 'Honda', 'Tata', 'Volkswagen', 'Maruti', 'Maruti', 'Tata', 'Hyundai', 'Datsun', 'Maruti', 'Maruti', 'Hyundai', 'Maruti', 'Tata', 'Tata', 'Maruti', 'Hyundai', 'Tata', 'Nissan', 'Maruti', 'Hyundai', 'Maruti', 'Fiat', 'Toyota', 'Honda', 'Honda', 'Ford', 'Hyundai', 'Hyundai', 'Maruti', 'Maruti', 'Maruti', 'Hyundai', 'Maruti', 'Maruti', 'Maruti', 'Maruti', 'Maruti', 'Hyundai', 'Maruti', 'Ford', 'Maruti', 'Ford', 'Renault', 'Maruti', 'Ford', 'Maruti', 'Maruti', 'Maruti', 'Maruti', 'Chevrolet', 'Toyota', 'Maruti', 'Mahindra', 'Toyota', 'Tata', 'Maruti', 'Maruti', 'Chevrolet', 'BMW', 'Volkswagen', 'Toyota', 'Maruti', 'Maruti', 'Audi', 'Mahindra', 'Maruti', 'Toyota', 'Hyundai', 'Datsun', 'Maruti', 'Ambassador', 'Hyundai', 'Skoda', 'Maruti', 'Tata', 'Mahindra', 'Hyundai', 'Maruti', 'Volkswagen', 'Maruti', 'Hyundai', 'Hyundai', 'Maruti', 'Maruti', 'Maruti', 'Volkswagen', 'Maruti', 'Maruti', 'Maruti', 'Maruti', 'Chevrolet', 'Hyundai', 'Hyundai', 'Renault', 'Renault', 'Hyundai', 'Skoda', 'Hyundai', 'Tata', 'Ford', 'Mahindra', 'Maruti', 'Hyundai', 'Honda', 'Maruti', 'Maruti', 'Ford', 'Ford', 'Mahindra', 'Maruti', 'Tata', 'Maruti', 'Mahindra', 'Hyundai', 'Hyundai', 'Hyundai', 'Nissan', 'Hyundai', 'Mahindra', 'Toyota', 'Mahindra', 'Tata', 'Maruti', 'Skoda', 'Hyundai', 'Maruti', 'Ford', 'Maruti', 'Ford', 'Hyundai', 'Ford', 'Ford', 'Ford', 'Maruti', 'Mahindra', 'Mahindra', 'Renault', 'Datsun', 'Maruti', 'Tata', 'Mahindra', 'Maruti', 'Mahindra', 'Maruti', 'Ford', 'Hyundai', 'Hyundai', 'Maruti', 'Mahindra', 'Renault', 'Mahindra', 'Maruti', 'Ford', 'Honda', 'Skoda', 'Toyota', 'Ford', 'Ford', 'Tata', 'Hyundai', 'Renault', 'Mahindra', 'Volkswagen', 'Maruti', 'Mahindra', 'Honda', 'Honda', 'Hyundai', 'Hyundai', 'Maruti', 'Nissan', 'Mahindra', 'Maruti', 'Mahindra', 'Mahindra', 'Honda', 'Honda', 'Hyundai', 'Tata', 'Volkswagen', 'Volkswagen', 'Maruti', 'Maruti', 'Tata', 'Toyota', 'Ford', 'Honda', 'Ford', 'Renault', 'Maruti', 'Toyota', 'Maruti', 'Maruti', 'Mahindra', 'Mahindra', 'Land', 'Hyundai', 'Maruti', 'Hyundai', 'BMW', 'Maruti', 'Tata', 'Maruti', 'Toyota', 'Hyundai', 'Mahindra', 'Mahindra', 'Hyundai', 'Maruti', 'Maruti', 'Hyundai', 'Mercedes-Benz', 'Maruti', 'Maruti', 'Honda', 'Ford', 'Hyundai', 'Nissan', 'Tata', 'Tata', 'Maruti', 'Fiat', 'Fiat', 'Ford', 'Hyundai', 'Maruti', 'Renault', 'Maruti', 'Maruti', 'Hyundai', 'Maruti', 'Tata', 'Chevrolet', 'Renault', 'Maruti', 'Hyundai', 'Hyundai', 'Hyundai', 'Maruti', 'Ford', 'Ford', 'Maruti', 'Maruti', 'Tata', 'Maruti', 'Maruti', 'Chevrolet', 'Renault', 'Nissan', 'Maruti', 'Maruti', 'Tata', 'Maruti', 'Honda', 'Renault', 'Tata', 'Tata', 'Chevrolet', 'Maruti', 'Renault', 'Maruti', 'Hyundai', 'Toyota', 'Mahindra', 'Mahindra', 'Hyundai', 'Maruti', 'Tata', 'Toyota', 'Nissan', 'Renault', 'Mahindra', 'Ford', 'Ford', 'Toyota', 'Chevrolet', 'Tata', 'Toyota', 'Maruti', 'Chevrolet', 'Hyundai', 'Maruti', 'Datsun', 'Mahindra', 'Renault', 'Ford', 'Hyundai', 'Hyundai', 'Ford', 'Toyota', 'Hyundai', 'Chevrolet', 'Chevrolet', 'Hyundai', 'Ford', 'Ford', 'Honda', 'Ford', 'Honda', 'Honda', 'Toyota', 'Tata', 'Hyundai', 'BMW', 'Ford', 'Maruti', 'Maruti', 'Mahindra', 'Maruti', 'Maruti', 'Fiat', 'Hyundai', 'Volkswagen', 'Maruti', 'Hyundai', 'Mahindra', 'Maruti', 'Fiat', 'Hyundai', 'Maruti', 'Toyota', 'Maruti', 'Honda', 'Volkswagen', 'Maruti', 'Maruti', 'Hyundai', 'Maruti', 'Maruti', 'Maruti', 'Ford', 'Ford', 'Mahindra', 'Hyundai', 'Ford', 'Mahindra', 'Ford', 'Honda', 'Tata', 'Mahindra', 'Maruti', 'Chevrolet', 'Tata', 'Renault', 'Nissan', 'Mitsubishi', 'Tata', 'Tata', 'Maruti', 'Tata', 'Maruti', 'Hyundai', 'Maruti', 'Maruti', 'Renault', 'Hyundai', 'Maruti', 'Ford', 'Toyota', 'Maruti', 'Toyota', 'Audi', 'Hyundai', 'Mahindra', 'Toyota', 'Hyundai', 'Honda', 'Toyota', 'Jeep', 'Nissan', 'Maruti', 'Tata', 'Mahindra', 'Maruti', 'Maruti', 'Tata', 'Maruti', 'Mahindra', 'Hyundai', 'Toyota', 'Maruti', 'Hyundai', 'Chevrolet', 'Maruti', 'Skoda', 'Skoda', 'Ford', 'Mahindra', 'Volkswagen', 'Maruti', 'Hyundai', 'Chevrolet', 'Mahindra', 'Honda', 'Fiat', 'Volkswagen', 'Honda', 'Chevrolet', 'Maruti', 'Maruti', 'Hyundai', 'Hyundai', 'Chevrolet', 'Chevrolet', 'Mahindra', 'Hyundai', 'Maruti', 'Mahindra', 'Mahindra', 'Ford', 'Mahindra', 'Tata', 'Renault', 'Tata', 'Mahindra', 'Datsun', 'Nissan', 'Audi', 'Honda', 'Tata', 'Maruti', 'Honda', 'Maruti', 'Hyundai', 'Mahindra', 'Toyota', 'Honda', 'Hyundai', 'Hyundai', 'Hyundai', 'Hyundai', 'Hyundai', 'Volkswagen', 'Mercedes-Benz', 'Audi', 'Audi', 'MG', 'Land', 'Honda', 'Mahindra', 'Mahindra', 'Maruti', 'Nissan', 'Volkswagen', 'BMW', 'Chevrolet', 'Maruti', 'Hyundai', 'Maruti', 'Maruti', 'Hyundai', 'Volkswagen', 'Hyundai', 'Tata', 'Datsun', 'Hyundai', 'Tata', 'Volkswagen', 'Hyundai', 'Mahindra', 'Hyundai', 'Hyundai', 'Maruti', 'Skoda', 'Ambassador', 'Fiat', 'Renault', 'Tata', 'Maruti', 'Maruti', 'Maruti', 'Maruti', 'Toyota', 'Toyota', 'Tata', 'Mahindra', 'Toyota', 'Hyundai', 'Nissan', 'Maruti', 'Tata', 'Honda', 'Maruti', 'Chevrolet', 'Ford', 'Honda', 'Honda', 'Honda', 'Honda', 'Honda', 'Honda', 'Honda', 'Maruti', 'Honda', 'Maruti', 'Hyundai', 'Hyundai', 'Hyundai', 'Ford', 'Honda', 'Hyundai', 'Hyundai', 'Hyundai', 'Mahindra', 'Tata', 'Ford', 'Maruti', 'Mahindra', 'Hyundai', 'Skoda', 'Maruti', 'Hyundai', 'Maruti', 'Renault', 'Maruti', 'Maruti', 'Renault', 'Honda', 'Mercedes-Benz', 'Maruti', 'Mahindra', 'Ford', 'Hyundai', 'Maruti', 'Maruti', 'Ford', 'Fiat', 'Tata', 'Mahindra', 'Hyundai', 'Toyota', 'Chevrolet', 'Maruti', 'Maruti', 'Fiat', 'Hyundai', 'Maruti', 'Volkswagen', 'Maruti', 'Maruti', 'Chevrolet', 'Maruti', 'Ford', 'Tata', 'Mahindra', 'Hyundai', 'Fiat', 'Maruti', 'Ford', 'Toyota', 'Maruti', 'Maruti', 'Maruti', 'Chevrolet', 'Maruti', 'Maruti', 'Maruti', 'Volkswagen', 'Maruti', 'Maruti', 'Tata', 'Maruti', 'Volvo', 'Maruti', 'Hyundai', 'Maruti', 'Volkswagen', 'Hyundai', 'Tata', 'Renault', 'Mahindra', 'Honda', 'Hyundai', 'Mahindra', 'Mahindra', 'Hyundai', 'Ford', 'Maruti', 'Maruti', 'Hyundai', 'Maruti', 'Hyundai', 'Maruti', 'Maruti', 'Hyundai', 'Maruti', 'Toyota', 'Ford', 'Hyundai', 'Maruti', 'Maruti', 'Mahindra', 'Maruti', 'Maruti', 'Chevrolet', 'Toyota', 'Maruti', 'Hyundai', 'Maruti', 'Ford', 'Mahindra', 'Hyundai', 'Maruti', 'Mahindra', 'Nissan', 'Ford', 'Hyundai', 'Mahindra', 'Maruti', 'Honda', 'Maruti', 'Honda', 'Tata', 'Mahindra', 'Mahindra', 'Maruti', 'Hyundai', 'Maruti', 'Hyundai', 'Maruti', 'Mahindra', 'Hyundai', 'Hyundai', 'Hyundai', 'Maruti', 'Maruti', 'Fiat', 'Honda', 'Tata', 'Chevrolet', 'Toyota', 'Hyundai', 'Skoda', 'Chevrolet', 'Toyota', 'Honda', 'Maruti', 'Hyundai', 'Skoda', 'Honda', 'Maruti', 'Maruti', 'Maruti', 'Tata', 'Hyundai', 'Ford', 'Maruti', 'Audi', 'Renault', 'Renault', 'Maruti', 'Nissan', 'Chevrolet', 'Honda', 'Tata', 'Hyundai', 'Maruti', 'Honda', 'Tata', 'Maruti', 'Maruti', 'Maruti', 'Ford', 'Ford', 'Ford', 'Ford', 'Ford', 'Ford', 'Ford', 'Ford', 'Hyundai', 'Hyundai', 'Toyota', 'Mahindra', 'Hyundai', 'Hyundai', 'Maruti', 'Ford', 'Mahindra', 'Volkswagen', 'Honda', 'Honda', 'Nissan', 'Fiat', 'Maruti', 'Maruti', 'Mahindra', 'Toyota', 'Hyundai', 'Maruti', 'Volkswagen', 'Mahindra', 'Tata', 'Mahindra', 'Toyota', 'Hyundai', 'Tata', 'Mahindra', 'Tata', 'Maruti', 'Maruti', 'Honda', 'Maruti', 'Volkswagen', 'Maruti', 'Renault', 'Maruti', 'Maruti', 'Hyundai', 'Mahindra', 'Ford', 'Tata', 'Honda', 'Hyundai', 'Hyundai', 'Maruti', 'Maruti', 'Maruti', 'Hyundai', 'Maruti', 'Fiat', 'Hyundai', 'Maruti', 'Maruti', 'Maruti', 'Maruti', 'Maruti', 'Ford', 'Maruti', 'Maruti', 'Nissan', 'Chevrolet', 'Maruti', 'Maruti', 'Maruti', 'Maruti', 'Hyundai', 'Maruti', 'Maruti', 'Maruti', 'Honda', 'Tata', 'Mahindra', 'Tata', 'Tata', 'Ford', 'Mahindra', 'Maruti', 'Toyota', 'Hyundai', 'Hyundai', 'Maruti', 'Hyundai', 'Renault']\n"
     ]
    }
   ],
   "source": [
    "Brand_Name=[]\n",
    "for i in df['name'].tolist():\n",
    "    Brand_Name.append(i.split()[0])\n",
    "print(Brand_Name)"
   ]
  },
  {
   "cell_type": "code",
   "execution_count": 27,
   "id": "d1096435",
   "metadata": {},
   "outputs": [
    {
     "data": {
      "text/plain": [
       "array(['Maruti', 'Maruti', 'Hyundai', ..., 'Maruti', 'Hyundai', 'Renault'],\n",
       "      dtype='<U13')"
      ]
     },
     "execution_count": 27,
     "metadata": {},
     "output_type": "execute_result"
    }
   ],
   "source": [
    "a=np.array(Brand_Name)\n",
    "a"
   ]
  },
  {
   "cell_type": "code",
   "execution_count": 28,
   "id": "2f0e544a",
   "metadata": {},
   "outputs": [],
   "source": [
    "df['Brand_Name']=a"
   ]
  },
  {
   "cell_type": "code",
   "execution_count": 29,
   "id": "f66418ee",
   "metadata": {},
   "outputs": [
    {
     "data": {
      "text/html": [
       "<div>\n",
       "<style scoped>\n",
       "    .dataframe tbody tr th:only-of-type {\n",
       "        vertical-align: middle;\n",
       "    }\n",
       "\n",
       "    .dataframe tbody tr th {\n",
       "        vertical-align: top;\n",
       "    }\n",
       "\n",
       "    .dataframe thead th {\n",
       "        text-align: right;\n",
       "    }\n",
       "</style>\n",
       "<table border=\"1\" class=\"dataframe\">\n",
       "  <thead>\n",
       "    <tr style=\"text-align: right;\">\n",
       "      <th></th>\n",
       "      <th>name</th>\n",
       "      <th>year</th>\n",
       "      <th>selling_price</th>\n",
       "      <th>km_driven</th>\n",
       "      <th>fuel</th>\n",
       "      <th>seller_type</th>\n",
       "      <th>transmission</th>\n",
       "      <th>owner</th>\n",
       "      <th>Brand_Name</th>\n",
       "    </tr>\n",
       "  </thead>\n",
       "  <tbody>\n",
       "    <tr>\n",
       "      <th>0</th>\n",
       "      <td>Maruti 800 AC</td>\n",
       "      <td>2007</td>\n",
       "      <td>60000</td>\n",
       "      <td>70000</td>\n",
       "      <td>Petrol</td>\n",
       "      <td>Individual</td>\n",
       "      <td>Manual</td>\n",
       "      <td>First Owner</td>\n",
       "      <td>Maruti</td>\n",
       "    </tr>\n",
       "    <tr>\n",
       "      <th>1</th>\n",
       "      <td>Maruti Wagon R LXI Minor</td>\n",
       "      <td>2007</td>\n",
       "      <td>135000</td>\n",
       "      <td>50000</td>\n",
       "      <td>Petrol</td>\n",
       "      <td>Individual</td>\n",
       "      <td>Manual</td>\n",
       "      <td>First Owner</td>\n",
       "      <td>Maruti</td>\n",
       "    </tr>\n",
       "    <tr>\n",
       "      <th>2</th>\n",
       "      <td>Hyundai Verna 1.6 SX</td>\n",
       "      <td>2012</td>\n",
       "      <td>600000</td>\n",
       "      <td>100000</td>\n",
       "      <td>Diesel</td>\n",
       "      <td>Individual</td>\n",
       "      <td>Manual</td>\n",
       "      <td>First Owner</td>\n",
       "      <td>Hyundai</td>\n",
       "    </tr>\n",
       "    <tr>\n",
       "      <th>3</th>\n",
       "      <td>Datsun RediGO T Option</td>\n",
       "      <td>2017</td>\n",
       "      <td>250000</td>\n",
       "      <td>46000</td>\n",
       "      <td>Petrol</td>\n",
       "      <td>Individual</td>\n",
       "      <td>Manual</td>\n",
       "      <td>First Owner</td>\n",
       "      <td>Datsun</td>\n",
       "    </tr>\n",
       "    <tr>\n",
       "      <th>4</th>\n",
       "      <td>Honda Amaze VX i-DTEC</td>\n",
       "      <td>2014</td>\n",
       "      <td>450000</td>\n",
       "      <td>141000</td>\n",
       "      <td>Diesel</td>\n",
       "      <td>Individual</td>\n",
       "      <td>Manual</td>\n",
       "      <td>Second Owner</td>\n",
       "      <td>Honda</td>\n",
       "    </tr>\n",
       "    <tr>\n",
       "      <th>...</th>\n",
       "      <td>...</td>\n",
       "      <td>...</td>\n",
       "      <td>...</td>\n",
       "      <td>...</td>\n",
       "      <td>...</td>\n",
       "      <td>...</td>\n",
       "      <td>...</td>\n",
       "      <td>...</td>\n",
       "      <td>...</td>\n",
       "    </tr>\n",
       "    <tr>\n",
       "      <th>4335</th>\n",
       "      <td>Hyundai i20 Magna 1.4 CRDi (Diesel)</td>\n",
       "      <td>2014</td>\n",
       "      <td>409999</td>\n",
       "      <td>80000</td>\n",
       "      <td>Diesel</td>\n",
       "      <td>Individual</td>\n",
       "      <td>Manual</td>\n",
       "      <td>Second Owner</td>\n",
       "      <td>Hyundai</td>\n",
       "    </tr>\n",
       "    <tr>\n",
       "      <th>4336</th>\n",
       "      <td>Hyundai i20 Magna 1.4 CRDi</td>\n",
       "      <td>2014</td>\n",
       "      <td>409999</td>\n",
       "      <td>80000</td>\n",
       "      <td>Diesel</td>\n",
       "      <td>Individual</td>\n",
       "      <td>Manual</td>\n",
       "      <td>Second Owner</td>\n",
       "      <td>Hyundai</td>\n",
       "    </tr>\n",
       "    <tr>\n",
       "      <th>4337</th>\n",
       "      <td>Maruti 800 AC BSIII</td>\n",
       "      <td>2009</td>\n",
       "      <td>110000</td>\n",
       "      <td>83000</td>\n",
       "      <td>Petrol</td>\n",
       "      <td>Individual</td>\n",
       "      <td>Manual</td>\n",
       "      <td>Second Owner</td>\n",
       "      <td>Maruti</td>\n",
       "    </tr>\n",
       "    <tr>\n",
       "      <th>4338</th>\n",
       "      <td>Hyundai Creta 1.6 CRDi SX Option</td>\n",
       "      <td>2016</td>\n",
       "      <td>865000</td>\n",
       "      <td>90000</td>\n",
       "      <td>Diesel</td>\n",
       "      <td>Individual</td>\n",
       "      <td>Manual</td>\n",
       "      <td>First Owner</td>\n",
       "      <td>Hyundai</td>\n",
       "    </tr>\n",
       "    <tr>\n",
       "      <th>4339</th>\n",
       "      <td>Renault KWID RXT</td>\n",
       "      <td>2016</td>\n",
       "      <td>225000</td>\n",
       "      <td>40000</td>\n",
       "      <td>Petrol</td>\n",
       "      <td>Individual</td>\n",
       "      <td>Manual</td>\n",
       "      <td>First Owner</td>\n",
       "      <td>Renault</td>\n",
       "    </tr>\n",
       "  </tbody>\n",
       "</table>\n",
       "<p>3577 rows × 9 columns</p>\n",
       "</div>"
      ],
      "text/plain": [
       "                                     name  year  selling_price  km_driven  \\\n",
       "0                           Maruti 800 AC  2007          60000      70000   \n",
       "1                Maruti Wagon R LXI Minor  2007         135000      50000   \n",
       "2                    Hyundai Verna 1.6 SX  2012         600000     100000   \n",
       "3                  Datsun RediGO T Option  2017         250000      46000   \n",
       "4                   Honda Amaze VX i-DTEC  2014         450000     141000   \n",
       "...                                   ...   ...            ...        ...   \n",
       "4335  Hyundai i20 Magna 1.4 CRDi (Diesel)  2014         409999      80000   \n",
       "4336           Hyundai i20 Magna 1.4 CRDi  2014         409999      80000   \n",
       "4337                  Maruti 800 AC BSIII  2009         110000      83000   \n",
       "4338     Hyundai Creta 1.6 CRDi SX Option  2016         865000      90000   \n",
       "4339                     Renault KWID RXT  2016         225000      40000   \n",
       "\n",
       "        fuel seller_type transmission         owner Brand_Name  \n",
       "0     Petrol  Individual       Manual   First Owner     Maruti  \n",
       "1     Petrol  Individual       Manual   First Owner     Maruti  \n",
       "2     Diesel  Individual       Manual   First Owner    Hyundai  \n",
       "3     Petrol  Individual       Manual   First Owner     Datsun  \n",
       "4     Diesel  Individual       Manual  Second Owner      Honda  \n",
       "...      ...         ...          ...           ...        ...  \n",
       "4335  Diesel  Individual       Manual  Second Owner    Hyundai  \n",
       "4336  Diesel  Individual       Manual  Second Owner    Hyundai  \n",
       "4337  Petrol  Individual       Manual  Second Owner     Maruti  \n",
       "4338  Diesel  Individual       Manual   First Owner    Hyundai  \n",
       "4339  Petrol  Individual       Manual   First Owner    Renault  \n",
       "\n",
       "[3577 rows x 9 columns]"
      ]
     },
     "execution_count": 29,
     "metadata": {},
     "output_type": "execute_result"
    }
   ],
   "source": [
    "df"
   ]
  },
  {
   "cell_type": "markdown",
   "id": "b582540c",
   "metadata": {},
   "source": [
    "### Selecting the dependent and independent variables"
   ]
  },
  {
   "cell_type": "code",
   "execution_count": 30,
   "id": "fe2db0db",
   "metadata": {},
   "outputs": [],
   "source": [
    "X=df.drop(['name', 'selling_price'], axis=1)\n",
    "y=df['selling_price']"
   ]
  },
  {
   "cell_type": "code",
   "execution_count": 31,
   "id": "ff31de99",
   "metadata": {},
   "outputs": [
    {
     "name": "stdout",
     "output_type": "stream",
     "text": [
      "<class 'pandas.core.frame.DataFrame'>\n",
      "<class 'pandas.core.series.Series'>\n",
      "(3577, 7)\n",
      "(3577,)\n"
     ]
    }
   ],
   "source": [
    "print(type(X))\n",
    "print(type(y))\n",
    "print(X.shape)\n",
    "print(y.shape)"
   ]
  },
  {
   "cell_type": "markdown",
   "id": "635e180b",
   "metadata": {},
   "source": [
    "### Extracting the categorical columns and numerical columns"
   ]
  },
  {
   "cell_type": "code",
   "execution_count": 32,
   "id": "4f6298b3",
   "metadata": {},
   "outputs": [],
   "source": [
    "cat_cols=X.select_dtypes(include='object')\n",
    "num_cols=X.select_dtypes(exclude='object')"
   ]
  },
  {
   "cell_type": "code",
   "execution_count": 33,
   "id": "dfa6d808",
   "metadata": {},
   "outputs": [
    {
     "name": "stdout",
     "output_type": "stream",
     "text": [
      "Index(['fuel', 'seller_type', 'transmission', 'owner', 'Brand_Name'], dtype='object')\n"
     ]
    }
   ],
   "source": [
    "print(cat_cols.columns)"
   ]
  },
  {
   "cell_type": "code",
   "execution_count": 34,
   "id": "384e0b60",
   "metadata": {},
   "outputs": [
    {
     "name": "stdout",
     "output_type": "stream",
     "text": [
      "Index(['year', 'km_driven'], dtype='object')\n"
     ]
    }
   ],
   "source": [
    "print(num_cols.columns)"
   ]
  },
  {
   "cell_type": "markdown",
   "id": "6b9b99e5",
   "metadata": {},
   "source": [
    "### Encoding the categorical dataset"
   ]
  },
  {
   "cell_type": "code",
   "execution_count": 35,
   "id": "4ac0d739",
   "metadata": {},
   "outputs": [],
   "source": [
    "from sklearn.preprocessing import LabelEncoder\n",
    "lb=LabelEncoder()"
   ]
  },
  {
   "cell_type": "code",
   "execution_count": 36,
   "id": "2dc3f122",
   "metadata": {},
   "outputs": [],
   "source": [
    "for i in cat_cols:\n",
    "    X[i]=lb.fit_transform(X[i])"
   ]
  },
  {
   "cell_type": "code",
   "execution_count": 37,
   "id": "a841a366",
   "metadata": {},
   "outputs": [
    {
     "data": {
      "text/html": [
       "<div>\n",
       "<style scoped>\n",
       "    .dataframe tbody tr th:only-of-type {\n",
       "        vertical-align: middle;\n",
       "    }\n",
       "\n",
       "    .dataframe tbody tr th {\n",
       "        vertical-align: top;\n",
       "    }\n",
       "\n",
       "    .dataframe thead th {\n",
       "        text-align: right;\n",
       "    }\n",
       "</style>\n",
       "<table border=\"1\" class=\"dataframe\">\n",
       "  <thead>\n",
       "    <tr style=\"text-align: right;\">\n",
       "      <th></th>\n",
       "      <th>year</th>\n",
       "      <th>km_driven</th>\n",
       "      <th>fuel</th>\n",
       "      <th>seller_type</th>\n",
       "      <th>transmission</th>\n",
       "      <th>owner</th>\n",
       "      <th>Brand_Name</th>\n",
       "    </tr>\n",
       "  </thead>\n",
       "  <tbody>\n",
       "    <tr>\n",
       "      <th>0</th>\n",
       "      <td>2007</td>\n",
       "      <td>70000</td>\n",
       "      <td>4</td>\n",
       "      <td>1</td>\n",
       "      <td>1</td>\n",
       "      <td>0</td>\n",
       "      <td>18</td>\n",
       "    </tr>\n",
       "    <tr>\n",
       "      <th>1</th>\n",
       "      <td>2007</td>\n",
       "      <td>50000</td>\n",
       "      <td>4</td>\n",
       "      <td>1</td>\n",
       "      <td>1</td>\n",
       "      <td>0</td>\n",
       "      <td>18</td>\n",
       "    </tr>\n",
       "    <tr>\n",
       "      <th>2</th>\n",
       "      <td>2012</td>\n",
       "      <td>100000</td>\n",
       "      <td>1</td>\n",
       "      <td>1</td>\n",
       "      <td>1</td>\n",
       "      <td>0</td>\n",
       "      <td>10</td>\n",
       "    </tr>\n",
       "    <tr>\n",
       "      <th>3</th>\n",
       "      <td>2017</td>\n",
       "      <td>46000</td>\n",
       "      <td>4</td>\n",
       "      <td>1</td>\n",
       "      <td>1</td>\n",
       "      <td>0</td>\n",
       "      <td>5</td>\n",
       "    </tr>\n",
       "    <tr>\n",
       "      <th>4</th>\n",
       "      <td>2014</td>\n",
       "      <td>141000</td>\n",
       "      <td>1</td>\n",
       "      <td>1</td>\n",
       "      <td>1</td>\n",
       "      <td>2</td>\n",
       "      <td>9</td>\n",
       "    </tr>\n",
       "    <tr>\n",
       "      <th>...</th>\n",
       "      <td>...</td>\n",
       "      <td>...</td>\n",
       "      <td>...</td>\n",
       "      <td>...</td>\n",
       "      <td>...</td>\n",
       "      <td>...</td>\n",
       "      <td>...</td>\n",
       "    </tr>\n",
       "    <tr>\n",
       "      <th>4335</th>\n",
       "      <td>2014</td>\n",
       "      <td>80000</td>\n",
       "      <td>1</td>\n",
       "      <td>1</td>\n",
       "      <td>1</td>\n",
       "      <td>2</td>\n",
       "      <td>10</td>\n",
       "    </tr>\n",
       "    <tr>\n",
       "      <th>4336</th>\n",
       "      <td>2014</td>\n",
       "      <td>80000</td>\n",
       "      <td>1</td>\n",
       "      <td>1</td>\n",
       "      <td>1</td>\n",
       "      <td>2</td>\n",
       "      <td>10</td>\n",
       "    </tr>\n",
       "    <tr>\n",
       "      <th>4337</th>\n",
       "      <td>2009</td>\n",
       "      <td>83000</td>\n",
       "      <td>4</td>\n",
       "      <td>1</td>\n",
       "      <td>1</td>\n",
       "      <td>2</td>\n",
       "      <td>18</td>\n",
       "    </tr>\n",
       "    <tr>\n",
       "      <th>4338</th>\n",
       "      <td>2016</td>\n",
       "      <td>90000</td>\n",
       "      <td>1</td>\n",
       "      <td>1</td>\n",
       "      <td>1</td>\n",
       "      <td>0</td>\n",
       "      <td>10</td>\n",
       "    </tr>\n",
       "    <tr>\n",
       "      <th>4339</th>\n",
       "      <td>2016</td>\n",
       "      <td>40000</td>\n",
       "      <td>4</td>\n",
       "      <td>1</td>\n",
       "      <td>1</td>\n",
       "      <td>0</td>\n",
       "      <td>23</td>\n",
       "    </tr>\n",
       "  </tbody>\n",
       "</table>\n",
       "<p>3577 rows × 7 columns</p>\n",
       "</div>"
      ],
      "text/plain": [
       "      year  km_driven  fuel  seller_type  transmission  owner  Brand_Name\n",
       "0     2007      70000     4            1             1      0          18\n",
       "1     2007      50000     4            1             1      0          18\n",
       "2     2012     100000     1            1             1      0          10\n",
       "3     2017      46000     4            1             1      0           5\n",
       "4     2014     141000     1            1             1      2           9\n",
       "...    ...        ...   ...          ...           ...    ...         ...\n",
       "4335  2014      80000     1            1             1      2          10\n",
       "4336  2014      80000     1            1             1      2          10\n",
       "4337  2009      83000     4            1             1      2          18\n",
       "4338  2016      90000     1            1             1      0          10\n",
       "4339  2016      40000     4            1             1      0          23\n",
       "\n",
       "[3577 rows x 7 columns]"
      ]
     },
     "execution_count": 37,
     "metadata": {},
     "output_type": "execute_result"
    }
   ],
   "source": [
    "X"
   ]
  },
  {
   "cell_type": "markdown",
   "id": "79d8103c",
   "metadata": {},
   "source": [
    "### Split the data into training and test data"
   ]
  },
  {
   "cell_type": "code",
   "execution_count": 38,
   "id": "fcc5c1a0",
   "metadata": {},
   "outputs": [],
   "source": [
    "from sklearn.model_selection import train_test_split\n",
    "X_train, X_test, y_train, y_test=train_test_split(X, y, test_size=0.1, random_state=0)"
   ]
  },
  {
   "cell_type": "code",
   "execution_count": 39,
   "id": "9cbb0e2c",
   "metadata": {},
   "outputs": [
    {
     "name": "stdout",
     "output_type": "stream",
     "text": [
      "<class 'pandas.core.frame.DataFrame'>\n",
      "<class 'pandas.core.frame.DataFrame'>\n",
      "<class 'pandas.core.series.Series'>\n",
      "<class 'pandas.core.series.Series'>\n"
     ]
    }
   ],
   "source": [
    "print(type(X_train))\n",
    "print(type(X_test))\n",
    "print(type(y_train))\n",
    "print(type(y_test))"
   ]
  },
  {
   "cell_type": "markdown",
   "id": "97f39877",
   "metadata": {},
   "source": [
    "### Shape of Training and test dataset "
   ]
  },
  {
   "cell_type": "code",
   "execution_count": 40,
   "id": "50b04b02",
   "metadata": {},
   "outputs": [
    {
     "name": "stdout",
     "output_type": "stream",
     "text": [
      "(3219, 7)\n",
      "(358, 7)\n",
      "(3219,)\n",
      "(358,)\n"
     ]
    }
   ],
   "source": [
    "print(X_train.shape)\n",
    "print(X_test.shape)\n",
    "print(y_train.shape)\n",
    "print(y_test.shape)"
   ]
  },
  {
   "cell_type": "code",
   "execution_count": 41,
   "id": "4a08368d",
   "metadata": {},
   "outputs": [],
   "source": [
    "from sklearn.metrics import mean_squared_error, mean_absolute_error, r2_score"
   ]
  },
  {
   "cell_type": "markdown",
   "id": "50e7ed8a",
   "metadata": {},
   "source": [
    "### Generating a regression evaluation metrices function to evaluate model and also generate a function to calculate the score of model"
   ]
  },
  {
   "cell_type": "code",
   "execution_count": 42,
   "id": "77b7b6fb",
   "metadata": {},
   "outputs": [],
   "source": [
    "def reg_eval_met(ytest, ypred):\n",
    "    mse=mean_squared_error(ytest, ypred)\n",
    "    rmse=np.sqrt(mse)\n",
    "    mae=mean_absolute_error(ytest, ypred)\n",
    "    r2s=r2_score(ytest, ypred)\n",
    "    print(\"mean squared error :\", mse)\n",
    "    print(\"Root mean squared error :\", rmse)\n",
    "    print(\"mean absolute error :\", mae)\n",
    "    print('R2 Score :', r2s)\n",
    "    \n",
    "def mscore(model):\n",
    "    print(\"Training Score :\", model.score(X_train, y_train))\n",
    "    print(\"Testing Score :\", model.score(X_test, y_test))\n"
   ]
  },
  {
   "cell_type": "markdown",
   "id": "034ee736",
   "metadata": {},
   "source": [
    "### Generate Regressor model"
   ]
  },
  {
   "cell_type": "code",
   "execution_count": 43,
   "id": "8db21b08",
   "metadata": {},
   "outputs": [],
   "source": [
    "from sklearn.linear_model import LinearRegression\n",
    "from sklearn.linear_model import Lasso\n",
    "from sklearn.linear_model import Ridge\n",
    "from sklearn.tree import DecisionTreeRegressor\n",
    "from sklearn.ensemble import RandomForestRegressor"
   ]
  },
  {
   "cell_type": "code",
   "execution_count": 44,
   "id": "5651f046",
   "metadata": {},
   "outputs": [],
   "source": [
    "lr_car=LinearRegression()\n",
    "la_car=Lasso(alpha=0.1)\n",
    "ri_car=Ridge(alpha=10)\n",
    "dt_car=DecisionTreeRegressor(criterion='mse', max_depth=11, min_samples_split=15, random_state=0)\n",
    "rf_car=RandomForestRegressor(n_estimators=110, criterion='mse', max_depth=11, min_samples_split=15, random_state=0)"
   ]
  },
  {
   "cell_type": "markdown",
   "id": "2b38e627",
   "metadata": {},
   "source": [
    "#### 1) Linear Regressor"
   ]
  },
  {
   "cell_type": "markdown",
   "id": "5385155f",
   "metadata": {},
   "source": [
    "#### Train the model "
   ]
  },
  {
   "cell_type": "code",
   "execution_count": 45,
   "id": "d6dda051",
   "metadata": {},
   "outputs": [
    {
     "data": {
      "text/plain": [
       "LinearRegression()"
      ]
     },
     "execution_count": 45,
     "metadata": {},
     "output_type": "execute_result"
    }
   ],
   "source": [
    "lr_car.fit(X_train, y_train)"
   ]
  },
  {
   "cell_type": "markdown",
   "id": "04e0cd6f",
   "metadata": {},
   "source": [
    "#### Predict on test data"
   ]
  },
  {
   "cell_type": "code",
   "execution_count": 46,
   "id": "d0929d21",
   "metadata": {},
   "outputs": [
    {
     "data": {
      "text/plain": [
       "array([ 150989.25051215,  430445.49852952,  770203.25709188,\n",
       "        439033.27588765,  536350.68622994,  574666.28158283,\n",
       "        354343.96647418,  281970.36492586,  671823.84383473,\n",
       "       -111813.43083675,  703684.37468405,  436418.82004505,\n",
       "        450234.43698414,  804459.84522521,  156485.46498705,\n",
       "        370808.33236997, 1297193.47997068,   85704.32445478,\n",
       "       1148703.78746213,  -82169.499285  ,  497154.57803699,\n",
       "        164446.31493443,  627816.26736616,  533555.7723216 ,\n",
       "        513050.958858  ,  441499.79716823,   96326.43155344,\n",
       "        230685.6916759 ,  420684.73393568,   85704.32445478,\n",
       "        587773.176818  ,  106537.53054614,  793059.18618724,\n",
       "       1540104.77039006,  474459.99554613,  541676.53476524,\n",
       "       1346552.87462358,  252346.3458433 ,  317023.24341068,\n",
       "        569441.78139791,  495951.36578913,  644437.19012576,\n",
       "        688660.2369089 ,  211372.00830688,  721309.99708194,\n",
       "        436233.33056989,  423666.40877281,  157865.7926309 ,\n",
       "        103902.46472818,  272003.92275873,  676782.06127556,\n",
       "        741910.99223757, 1384852.66998474,  610975.18472907,\n",
       "        694970.37694708, 1536032.80456236,  355320.57190764,\n",
       "        253934.37808718,  178446.56774187, 1539454.77548665,\n",
       "       1131514.27082109,  306131.55879971,  403995.37518711,\n",
       "        319026.32066269,  633368.32727681,   43732.09449862,\n",
       "        825750.16354333,  810936.83298405,  116348.03119247,\n",
       "        191601.50927372,  135283.03945528,  592002.58348976,\n",
       "        165742.38116857,  298862.8854595 ,  428497.82116933,\n",
       "        509664.38970806,  729056.06744809,  553807.45066139,\n",
       "        399628.70373914,  597990.9296415 ,  189819.35632063,\n",
       "        483813.90758537,  292888.49183974,  476697.26011449,\n",
       "        515000.14093108,  636074.00648321,  336357.07025   ,\n",
       "       -138635.9389765 ,  232155.81905088,  386775.88509768,\n",
       "        459181.85945861,  581726.23677455,  325059.68003877,\n",
       "        421679.60622509,  253756.26314086,   57372.31780088,\n",
       "        282848.85396256,  594251.85764407,  400285.48899473,\n",
       "        553480.88250099, -199932.75733456, 1676000.28219925,\n",
       "         -7795.586422  ,  712680.27650228,  619999.88006051,\n",
       "        599512.09797715,  623356.02999564,  -91029.62009273,\n",
       "        387084.10097678,  718657.8296314 ,  317556.1932877 ,\n",
       "        585918.86183006,  386699.92345031,  332830.8240509 ,\n",
       "       1411540.17491266,    3853.24052884,  570241.39220911,\n",
       "        575556.52889812,  615112.58917883,  625707.62159154,\n",
       "       1329503.1532681 ,   80917.02402736,  590402.94450934,\n",
       "        616611.69104601,  371697.63613676,   74904.10240978,\n",
       "        379865.33707733,  192573.13195604,  414916.79117264,\n",
       "         69383.15248375,  660517.11421563,  183807.23965159,\n",
       "        652143.72503413,  520270.7621401 ,  771144.45542613,\n",
       "        592143.66262688,  614515.50561474,  996164.82459776,\n",
       "        574002.07991756,  -16561.47872645,  556253.25452417,\n",
       "        134820.14185266,  586227.08779566, 1317289.28807862,\n",
       "       1364299.6771629 ,  493033.51560248,  494931.69681011,\n",
       "        618897.94338101,  364044.77518356,  421592.27361049,\n",
       "        496253.19211692,  659931.89158107,  539560.76914354,\n",
       "        660517.11421563,  108379.63938369,  810885.28794031,\n",
       "        372562.60648163,  709379.57491425,  275653.37195335,\n",
       "        709961.32424131,   16694.00007965,  241027.27987796,\n",
       "        495040.77065708,  745278.97005281,  539535.53035581,\n",
       "        250461.1734602 , 1232312.98720257,  730109.90781225,\n",
       "        392278.41124772,  166199.49339531,  538351.76450063,\n",
       "        296387.94073775,  599258.02138345,  529810.63999371,\n",
       "        410812.49707997,  508444.53931426,   45083.30575725,\n",
       "        760649.70593366,  677794.82223082,  496515.5512514 ,\n",
       "        -38612.38121238,  400790.22695845,  499381.50687057,\n",
       "        441468.54467969,  603580.75745822,  572931.32131964,\n",
       "        535664.41809621,  616611.69104601,  403596.48088613,\n",
       "       1237851.77405863,  489502.83740783,  363364.22614448,\n",
       "        453236.8185211 , 1436793.71576941, -128155.35631594,\n",
       "        304355.71445653,  581548.12182823,  439182.0381517 ,\n",
       "        391846.21970767,  568613.67154817,  647540.87489492,\n",
       "        317734.30823402,  330289.98673624,  178755.04790042,\n",
       "        136087.2335946 ,  171510.44792871,  546408.59096305,\n",
       "        276166.81074312,  470009.91876842,  442435.26279798,\n",
       "        558963.89127518,  475802.78221822,  345835.56598713,\n",
       "        608532.06687529,  234950.73295923,  489248.76081413,\n",
       "        517154.90772982,  446231.02522556,  459000.32928857,\n",
       "        566378.29221368,  673012.80475318,  184861.94382836,\n",
       "         57550.4327472 ,  -76868.02068081,  791217.07734968,\n",
       "        622421.38132998,  600348.74459754,  290725.56649733,\n",
       "        509829.53592508,  719855.33946264,  417877.35968396,\n",
       "        355385.70192164,  653457.41321689,  376832.73052827,\n",
       "         83848.10966055,   61800.62239832,  518837.50112998,\n",
       "       -236674.42640026,  328088.23278235,  486180.69850758,\n",
       "        367431.14332409,  644521.21309017,  656277.50200494,\n",
       "        555250.44491488,  -29846.48890793,  511336.0123211 ,\n",
       "        153797.1331498 ,  282108.43645692,  393835.84028938,\n",
       "        215901.1952384 ,  585973.01120195,    9304.00664687,\n",
       "        303185.4335629 ,  500038.29212615, 1121710.56667881,\n",
       "        569708.318335  ,  638644.32667601,  649832.89723326,\n",
       "        677870.78387819,  507140.25504497,  329857.79519621,\n",
       "       1384388.19909033, 1401120.60264416,  660263.03762193,\n",
       "        479327.02780582, 1380998.19646522,  482684.62246358,\n",
       "        536660.54090552, 1306414.54322927,  348627.0646718 ,\n",
       "        498670.31805013, 1265665.93311909,  756585.69967192,\n",
       "        322075.31116474,  592600.77485362,  345399.9592234 ,\n",
       "        421793.58748434,  578965.92813805,  223211.81180011,\n",
       "        618211.07583347,  460964.77499059,  140334.00802201,\n",
       "        734416.8923171 ,  -58952.04845893,  684972.6822914 ,\n",
       "        105626.66869685,  384710.3028686 , -458385.80720234,\n",
       "        609141.35572931,  -55966.05087495,  263059.91550796,\n",
       "        541920.07628819,  308511.42769992, 1252695.20960872,\n",
       "        318485.65464593,  780475.49150921,  114114.82494533,\n",
       "       1251064.36801228, 1207586.48316337,  692607.65457873,\n",
       "        453128.54406494,  350913.82539275,  535978.70476736,\n",
       "        630891.4495198 ,  618317.62815875,  326061.78270982,\n",
       "        380463.52844121,  103162.04722254,  813665.13617788,\n",
       "        450258.75825702,  239938.17908522,  594560.78856008,\n",
       "        592412.45436837,  -16561.47872645, 1304494.3678479 ,\n",
       "        414193.14200884,  864607.59446394,   13804.85766798,\n",
       "        625631.65994416,  491644.63547726,  114214.44605498,\n",
       "        206455.47989459, 1313983.6551232 , 1336945.39583458,\n",
       "        500809.56702693,  582857.15679167,  380463.52844121,\n",
       "        544299.94518842,  823497.08520269,  667003.87452091,\n",
       "        125597.13732146,  437295.4092755 ,  378875.49619733,\n",
       "        726781.92002976,  610667.63064107,  766401.97132427,\n",
       "       -214834.77425212, -299253.36892596,  161934.45211197,\n",
       "        417383.31245321,  441468.54467969, 1220781.51273832,\n",
       "        411410.68844382,  626976.96813791,  473918.73015913,\n",
       "        820433.01097788,  731431.40311906,  825225.9423907 ,\n",
       "        520270.7621401 ,  514212.4820773 ,  444040.63448289,\n",
       "        529408.5066805 ,  622480.51614314,  439109.23753504,\n",
       "        675732.98787844,  502473.56091818,  566759.49084334,\n",
       "        610975.18472907])"
      ]
     },
     "execution_count": 46,
     "metadata": {},
     "output_type": "execute_result"
    }
   ],
   "source": [
    "ypred_lr=lr_car.predict(X_test)\n",
    "ypred_lr"
   ]
  },
  {
   "cell_type": "markdown",
   "id": "e2de8955",
   "metadata": {},
   "source": [
    "#### Model Evaluation"
   ]
  },
  {
   "cell_type": "code",
   "execution_count": 47,
   "id": "8f5532f7",
   "metadata": {},
   "outputs": [
    {
     "name": "stdout",
     "output_type": "stream",
     "text": [
      "mean squared error : 109357350192.73291\n",
      "Root mean squared error : 330692.22880608024\n",
      "mean absolute error : 203345.35948067304\n",
      "R2 Score : 0.410645994992731\n"
     ]
    }
   ],
   "source": [
    "reg_eval_met(y_test, ypred_lr)"
   ]
  },
  {
   "cell_type": "code",
   "execution_count": 48,
   "id": "e3656491",
   "metadata": {},
   "outputs": [
    {
     "name": "stdout",
     "output_type": "stream",
     "text": [
      "Training Score : 0.42989300208216696\n",
      "Testing Score : 0.410645994992731\n"
     ]
    }
   ],
   "source": [
    "mscore(lr_car)"
   ]
  },
  {
   "cell_type": "markdown",
   "id": "27c8a2ea",
   "metadata": {},
   "source": [
    "#### 2) Lasso Regressor"
   ]
  },
  {
   "cell_type": "markdown",
   "id": "5e0c79a9",
   "metadata": {},
   "source": [
    "#### Trian the model"
   ]
  },
  {
   "cell_type": "code",
   "execution_count": 49,
   "id": "07c472cd",
   "metadata": {},
   "outputs": [
    {
     "data": {
      "text/plain": [
       "Lasso(alpha=0.1)"
      ]
     },
     "execution_count": 49,
     "metadata": {},
     "output_type": "execute_result"
    }
   ],
   "source": [
    "la_car.fit(X_train, y_train)"
   ]
  },
  {
   "cell_type": "markdown",
   "id": "30f01893",
   "metadata": {},
   "source": [
    "#### Predict on test data"
   ]
  },
  {
   "cell_type": "code",
   "execution_count": 50,
   "id": "88dbcda9",
   "metadata": {},
   "outputs": [
    {
     "data": {
      "text/plain": [
       "array([ 150989.4121483 ,  430445.54824722,  770202.97648551,\n",
       "        439033.31215297,  536350.90839277,  574666.50980926,\n",
       "        354344.21682966,  281970.61849909,  671824.03593765,\n",
       "       -111813.1699695 ,  703684.04181036,  436418.58183743,\n",
       "        450234.71517102,  804458.86769645,  156485.63196747,\n",
       "        370808.58736533, 1297192.06028177,   85704.48170203,\n",
       "       1148702.31894612,  -82169.4553483 ,  497155.01179005,\n",
       "        164446.55692926,  627816.39487536,  533555.98342004,\n",
       "        513051.11986907,  441499.90222648,   96326.61461493,\n",
       "        230685.99922965,  420685.01458256,   85704.48170203,\n",
       "        587773.2996065 ,  106537.68015222,  793059.42137572,\n",
       "       1540103.81741655,  474459.7725253 ,  541676.6511202 ,\n",
       "       1346552.43345641,  252346.66715553,  317023.24824984,\n",
       "        569441.96742006,  495951.53927942,  644437.44258884,\n",
       "        688659.92166254,  211372.21624383,  721310.30353326,\n",
       "        436233.10052863,  423666.6912756 ,  157866.05733323,\n",
       "        103902.8252909 ,  272004.05395776,  676782.34623265,\n",
       "        741910.67577435, 1384851.32416235,  610975.19494565,\n",
       "        694970.53960447, 1536031.31451918,  355320.78285548,\n",
       "        253934.69259682,  178446.8681061 , 1539453.2087559 ,\n",
       "       1131513.39525735,  306131.76227562,  403995.53301844,\n",
       "        319026.5293735 ,  633367.93646435,   43732.32197736,\n",
       "        825749.13927838,  810936.56913909,  116348.24822141,\n",
       "        191601.79332313,  135283.21596886,  592002.21786329,\n",
       "        165742.66396312,  298863.02179436,  428498.10002325,\n",
       "        509664.70387924,  729056.26220554,  553807.02807225,\n",
       "        399628.81987169,  597991.15039831,  189819.53391069,\n",
       "        483814.18931732,  292888.89700089,  476697.57237937,\n",
       "        515000.46968056,  636074.12741512,  336356.87473202,\n",
       "       -138636.16250227,  232156.01600429,  386776.11421856,\n",
       "        459181.90185946,  581726.37652934,  325059.92499116,\n",
       "        421679.64741921,  253756.55567458,   57372.41021086,\n",
       "        282849.18313132,  594251.52122413,  400285.48967011,\n",
       "        553481.22582136, -199932.6443149 , 1675998.87119268,\n",
       "         -7795.37378772,  712680.47818272,  619999.53957067,\n",
       "        599512.26232947,  623356.7131902 ,  -91029.37020902,\n",
       "        387084.86432542,  718657.52175063,  317556.51259887,\n",
       "        585919.04207103,  386700.1669967 ,  332830.9489871 ,\n",
       "       1411538.83115059,    3853.4426872 ,  570241.49795048,\n",
       "        575557.1947207 ,  615112.74689764,  625707.77511315,\n",
       "       1329501.77334239,   80917.24916692,  590403.0698549 ,\n",
       "        616611.84291913,  371697.88156344,   74904.21186687,\n",
       "        379865.10313517,  192573.38680077,  414917.02771486,\n",
       "         69383.1674618 ,  660517.29428104,  183807.48597276,\n",
       "        652143.36384736,  520271.05670056,  771144.6693057 ,\n",
       "        592143.82398783,  614515.64918958,  996163.91715729,\n",
       "        574002.22050844,  -16561.27461572,  556252.86550601,\n",
       "        134820.35295366,  586227.33560997, 1317287.88792998,\n",
       "       1364298.31031238,  493033.31898843,  494931.81038199,\n",
       "        618898.04343833,  364044.90032136,  421591.86974983,\n",
       "        496253.32564647,  659931.5972227 ,  539560.84505247,\n",
       "        660517.29428104,  108379.78973763,  810885.0282186 ,\n",
       "        372562.35813525,  709379.24757832,  275653.07298225,\n",
       "        709961.50043188,   16694.10488802,  241027.25547083,\n",
       "        495040.58329816,  745279.18788806,  539535.3571555 ,\n",
       "        250461.39469852, 1232311.97768497,  730110.09013838,\n",
       "        392278.69233631,  166199.73709486,  538351.87355676,\n",
       "        296388.19399495,  599258.17818534,  529810.32164367,\n",
       "        410812.26621002,  508444.82214987,   45083.44025679,\n",
       "        760649.41499449,  677795.01179293,  496515.85263723,\n",
       "        -38612.10216323,  400790.50902018,  499381.67430611,\n",
       "        441468.81434302,  603581.00034375,  572931.08235103,\n",
       "        535664.60318227,  616611.84291913,  403596.75859874,\n",
       "       1237850.73247387,  489503.13197482,  363364.40450683,\n",
       "        453236.89040004, 1436792.20402883, -128155.28147347,\n",
       "        304355.54081738,  581548.2396071 ,  439182.33574118,\n",
       "        391846.47126994,  568613.22183715,  647540.54042532,\n",
       "        317734.64952111,  330290.1081585 ,  178755.43972766,\n",
       "        136087.38074069,  171510.40683539,  546408.68907316,\n",
       "        276166.80600476,  470010.11063989,  442434.82955985,\n",
       "        558964.11362335,  475802.94957292,  345835.54908398,\n",
       "        608532.24730161,  234950.94097701,  489249.04783069,\n",
       "        517155.13407359,  446230.75295343,  459000.61599903,\n",
       "        566378.94076502,  673012.49505134,  184862.21297781,\n",
       "         57550.5471331 ,  -76867.85340673,  791217.31179032,\n",
       "        622421.01304527,  600348.3236576 ,  290725.54576582,\n",
       "        509829.85860355,  719855.53466377,  417877.66357714,\n",
       "        355385.96163678,  653457.70564359,  376832.22515444,\n",
       "         83848.24961713,   61800.57100782,  518837.65136848,\n",
       "       -236674.34278959,  328088.57579041,  486180.98254088,\n",
       "        367430.72112238,  644520.84136158,  656277.7607643 ,\n",
       "        555250.53712307,  -29846.20133521,  511336.29901159,\n",
       "        153797.31931895,  282108.66852599,  393835.98093866,\n",
       "        215901.17632803,  585973.25146586,    9304.20680192,\n",
       "        303185.11880063,  500038.34410454, 1121709.45472567,\n",
       "        569708.47759688,  638644.60365579,  649833.05856311,\n",
       "        677870.95901482,  507139.77466606,  329857.88709213,\n",
       "       1384387.61623117, 1401119.07697605,  660263.21013692,\n",
       "        479327.34262776, 1380996.7476107 ,  482684.67937076,\n",
       "        536660.85952382, 1306413.12728982,  348627.32511851,\n",
       "        498670.51703025, 1265665.00753777,  756585.92954464,\n",
       "        322075.53849036,  592600.89711955,  345400.17907941,\n",
       "        421793.95098242,  578966.09323724,  223211.97825404,\n",
       "        618210.71284489,  460964.99551979,  140334.25567721,\n",
       "        734417.0933305 ,  -58951.81098989,  684972.88717966,\n",
       "        105626.92620966,  384710.65732796, -458386.78466141,\n",
       "        609141.10314757,  -55965.76689699,  263060.01620752,\n",
       "        541920.40002063,  308511.43156596, 1252694.29321799,\n",
       "        318485.81117311,  780475.19074166,  114114.78713432,\n",
       "       1251063.38298772, 1207584.90012772,  692607.83569811,\n",
       "        453128.30864909,  350914.08180298,  535978.81558199,\n",
       "        630891.64647068,  618317.87702705,  326061.49019147,\n",
       "        380463.78239144,  103162.31068558,  813665.36229657,\n",
       "        450258.54185343,  239938.60860147,  594561.01537162,\n",
       "        592412.14493735,  -16561.27461572, 1304493.3165938 ,\n",
       "        414193.44440633,  864607.36100331,   13805.16588259,\n",
       "        625631.82789125,  491644.81416993,  114214.69011544,\n",
       "        206455.68931097, 1313982.52264772, 1336944.02314536,\n",
       "        500809.87363142,  582857.32883888,  380463.78239144,\n",
       "        544300.06931095,  823496.83461411,  667004.06089377,\n",
       "        125597.37899391,  437295.17192023,  378875.75695017,\n",
       "        726782.14481205,  610667.26136093,  766401.68806502,\n",
       "       -214834.67572252, -299253.27768296,  161934.7953475 ,\n",
       "        417383.61778837,  441468.81434302, 1220780.61831164,\n",
       "        411410.94546628,  626976.6136729 ,  473918.77854276,\n",
       "        820432.75845326,  731431.60540286,  825226.18809728,\n",
       "        520271.05670056,  514212.80901755,  444040.74305508,\n",
       "        529408.18272273,  622480.62907405,  439109.25937486,\n",
       "        675733.1816614 ,  502473.8462946 ,  566759.09128158,\n",
       "        610975.19494565])"
      ]
     },
     "execution_count": 50,
     "metadata": {},
     "output_type": "execute_result"
    }
   ],
   "source": [
    "ypred_la=la_car.predict(X_test)\n",
    "ypred_la"
   ]
  },
  {
   "cell_type": "markdown",
   "id": "da4e6757",
   "metadata": {},
   "source": [
    "#### Model Evaluation"
   ]
  },
  {
   "cell_type": "code",
   "execution_count": 51,
   "id": "672bab16",
   "metadata": {},
   "outputs": [
    {
     "name": "stdout",
     "output_type": "stream",
     "text": [
      "mean squared error : 109357293893.71657\n",
      "Root mean squared error : 330692.14368308865\n",
      "mean absolute error : 203345.30100922406\n",
      "R2 Score : 0.4106462984021563\n"
     ]
    }
   ],
   "source": [
    "reg_eval_met(y_test, ypred_la)"
   ]
  },
  {
   "cell_type": "code",
   "execution_count": 52,
   "id": "c27583e8",
   "metadata": {},
   "outputs": [
    {
     "name": "stdout",
     "output_type": "stream",
     "text": [
      "Training Score : 0.42989300208151116\n",
      "Testing Score : 0.4106462984021563\n"
     ]
    }
   ],
   "source": [
    "mscore(la_car)"
   ]
  },
  {
   "cell_type": "markdown",
   "id": "bcb9a31c",
   "metadata": {},
   "source": [
    "#### 3) Ridge Regressor"
   ]
  },
  {
   "cell_type": "markdown",
   "id": "e466e91e",
   "metadata": {},
   "source": [
    "#### Trian the model"
   ]
  },
  {
   "cell_type": "code",
   "execution_count": 53,
   "id": "63cdf1ec",
   "metadata": {},
   "outputs": [
    {
     "data": {
      "text/plain": [
       "Ridge(alpha=10)"
      ]
     },
     "execution_count": 53,
     "metadata": {},
     "output_type": "execute_result"
    }
   ],
   "source": [
    "ri_car.fit(X_train, y_train)"
   ]
  },
  {
   "cell_type": "markdown",
   "id": "183cbfb7",
   "metadata": {},
   "source": [
    "#### Predict on test data"
   ]
  },
  {
   "cell_type": "code",
   "execution_count": 54,
   "id": "967ec84f",
   "metadata": {},
   "outputs": [
    {
     "data": {
      "text/plain": [
       "array([ 152563.2664668 ,  431768.1193516 ,  775531.65963843,\n",
       "        440212.33450125,  539577.6027365 ,  577614.70464645,\n",
       "        357151.35034786,  283998.03525171,  675725.02299815,\n",
       "       -110744.35120666,  707955.19019292,  440455.11075175,\n",
       "        453464.10864177,  775507.59958205,  158126.33281103,\n",
       "        374119.64603454, 1270624.71762726,   86723.01161171,\n",
       "       1121762.32665271,  -82191.36537336,  501901.624091  ,\n",
       "        165779.29367484,  630934.15351412,  536307.34394914,\n",
       "        514863.75799461,  443333.78617194,   97217.03156358,\n",
       "        233790.05089176,  424299.52083746,   86723.01161171,\n",
       "        590403.52534139,  108315.40468293,  797194.41099952,\n",
       "       1514126.3956254 ,  478710.97329627,  543966.38957255,\n",
       "       1318273.83411391,  255327.98824325,  317710.33284645,\n",
       "        573420.7436451 ,  498190.37665187,  647738.21957946,\n",
       "        693548.01454861,  213928.97603841,  725353.20139605,\n",
       "        440708.71474318,  427262.29384919,  159752.92925884,\n",
       "        106300.09577914,  273558.31242833,  680531.67841336,\n",
       "        746453.91907209, 1359653.79837692,  617162.49424842,\n",
       "        698215.70861572, 1510290.19620505,  356574.08568399,\n",
       "        256493.9865087 ,  181411.56416997, 1512237.3749461 ,\n",
       "       1103259.70889825,  308352.52276698,  406301.30397905,\n",
       "        321017.94601288,  637335.55765644,   45416.39589882,\n",
       "        796376.77935338,  816457.5022292 ,  117343.99569695,\n",
       "        194092.31416519,  137355.38390246,  596210.72435085,\n",
       "        168277.00979584,  299292.00973839,  431711.12233369,\n",
       "        513368.905604  ,  732660.82342839,  556502.80895066,\n",
       "        400805.97148947,  600533.68921998,  191617.65528084,\n",
       "        486817.81650308,  295655.35357958,  480690.1555143 ,\n",
       "        519266.07526618,  638519.97179465,  339901.79880294,\n",
       "       -136367.24265178,  234221.04973713,  388660.49870707,\n",
       "        460799.32254387,  584586.22106653,  327489.363267  ,\n",
       "        422895.60524598,  256065.68755274,   58055.66449267,\n",
       "        285953.48865695,  599011.21807082,  401103.58572282,\n",
       "        557911.68173181, -200165.45846781, 1651657.4312153 ,\n",
       "         -6683.34396809,  716389.03578289,  624438.22183014,\n",
       "        602974.59719031,  625747.70621371,  -90452.27750795,\n",
       "        389067.03202091,  723662.45814984,  320586.9471675 ,\n",
       "        589850.22148982,  388445.44975048,  334381.01429975,\n",
       "       1386307.55532922,    4859.15310726,  572658.49713016,\n",
       "        578001.00597028,  618516.82362446,  629378.88950779,\n",
       "       1303768.73140822,   81922.89848565,  593065.27957307,\n",
       "        619647.97853304,  374468.07960315,   75800.6927039 ,\n",
       "        384537.31888112,  194386.38776939,  417330.70430678,\n",
       "         69537.84850283,  664225.59801771,  185513.87366377,\n",
       "        656035.65592574,  523090.22429825,  775013.12573549,\n",
       "        595737.21247837,  617195.28444253,  967918.06721327,\n",
       "        577209.46292716,  -15555.8580737 ,  559722.89763184,\n",
       "        135682.43242946,  589757.47753942, 1290964.95621438,\n",
       "       1338795.64551787,  497951.75747374,  498004.37374738,\n",
       "        620914.31701085,  365285.26156835,  423791.16026595,\n",
       "        499424.45418447,  665242.11759034,  541604.69776051,\n",
       "        664225.59801771,  110124.75086093,  816626.00504123,\n",
       "        376759.58237627,  713719.66260734,  279167.65102369,\n",
       "        713333.82595213,   17819.95066388,  241341.21468264,\n",
       "        500369.6082074 ,  749467.23028712,  544771.37063299,\n",
       "        252755.37449689, 1204225.45203754,  733920.81399477,\n",
       "        396126.71451429,  167553.79649597,  541291.02966927,\n",
       "        299813.95622039,  602331.24927777,  533188.13430841,\n",
       "        415337.03607914,  511444.85068181,   46664.90016894,\n",
       "        765806.73747912,  681327.27831639,  500060.13444558,\n",
       "        -37645.4918302 ,  404355.88070737,  501165.72109528,\n",
       "        444591.59453616,  607074.20679469,  577908.85165893,\n",
       "        537862.60795547,  619647.97853304,  406485.39230564,\n",
       "       1208756.06048732,  492962.12316108,  366047.93383567,\n",
       "        454836.65602618, 1411084.6078489 , -128699.92952782,\n",
       "        308503.7557229 ,  584157.92211059,  442966.64381611,\n",
       "        395055.0676458 ,  571103.42400986,  652121.35601458,\n",
       "        321015.24612346,  331754.10342494,  181677.4324618 ,\n",
       "        137479.99248725,  171861.04766215,  548452.81673153,\n",
       "        277046.32006168,  472429.43224694,  445319.72977614,\n",
       "        562217.84045516,  477603.38860922,  346956.58499533,\n",
       "        612490.45920846,  237491.30852449,  492318.77524856,\n",
       "        520451.52730323,  449890.62920234,  462336.62274738,\n",
       "        568269.7824112 ,  677903.10750268,  186829.42403029,\n",
       "         58483.96344864,  -76347.9064465 ,  795385.06482153,\n",
       "        626199.80926743,  603114.16150379,  291092.79052959,\n",
       "        513977.41015968,  723844.70294923,  421926.69213428,\n",
       "        358647.10631411,  657612.69383985,  378477.90742204,\n",
       "         85101.50576548,   61046.2728495 ,  521176.17550065,\n",
       "       -236848.72178055,  331053.75849451,  489213.39531159,\n",
       "        369881.29621693,  648154.92330126,  659446.70470105,\n",
       "        557540.37979373,  -28772.97772458,  514426.66212086,\n",
       "        155653.31965443,  284974.58573887,  395632.01512717,\n",
       "        215339.77318345,  589114.12962689,    9990.03737466,\n",
       "        306593.72577439,  501463.33532864, 1091643.06415139,\n",
       "        573166.66147344,  642564.26321717,  652970.0765353 ,\n",
       "        681542.32727298,  509516.48901308,  330682.45655645,\n",
       "       1354713.127932  , 1375170.44232869,  663582.25010517,\n",
       "        483351.90974598, 1355032.76167542,  484146.60607336,\n",
       "        540445.40037546, 1279682.09553409,  352192.44294216,\n",
       "        501245.58648263, 1237987.04872279,  760966.65526757,\n",
       "        324931.55271278,  595013.99917848,  347850.5372863 ,\n",
       "        424878.97934103,  581539.92491747,  224920.23667556,\n",
       "        622434.81106861,  464349.81815492,  142007.9010476 ,\n",
       "        738142.02209099,  -58480.57322907,  689033.79415658,\n",
       "        107374.44253704,  387868.5022691 , -463745.149855  ,\n",
       "        613787.43940632,  -54962.22108549,  264257.49936675,\n",
       "        545768.90883882,  309481.16665336, 1225106.57652031,\n",
       "        320871.51028877,  785239.47070873,  114006.05550212,\n",
       "       1223535.92292875, 1180770.42291977,  696017.09669685,\n",
       "        457561.41151074,  354176.00590444,  538199.25540389,\n",
       "        634845.96125679,  621548.97621858,  329748.32583582,\n",
       "        383340.59370877,  105321.19286104,  817416.79798451,\n",
       "        454904.73731217,  243356.73224516,  597558.34477654,\n",
       "        595614.00591536,  -15555.8580737 , 1277138.30850951,\n",
       "        418307.99977833,  870533.05742404,   15161.29384753,\n",
       "        629163.8405512 ,  494327.78079787,  115818.65768671,\n",
       "        209283.65884446, 1284674.91490135, 1311301.49588388,\n",
       "        504461.54814152,  586475.43263187,  383340.59370877,\n",
       "        546897.55272521,  829225.69672674,  670791.25845586,\n",
       "        127533.13162374,  441342.36216231,  382174.59544332,\n",
       "        731158.7195507 ,  614854.78171633,  771739.30655786,\n",
       "       -215248.73244736, -299453.56120515,  163852.53886323,\n",
       "        420452.15597746,  444591.59453616, 1193797.25858133,\n",
       "        414140.31090677,  631307.32517423,  475274.09196775,\n",
       "        826179.52208245,  735340.89443186,  829559.57087748,\n",
       "        523090.22429825,  518413.66721249,  445960.69704676,\n",
       "        532505.26623011,  625036.98385192,  440427.38345782,\n",
       "        678739.93462195,  505842.59536356,  570164.07515483,\n",
       "        617162.49424842])"
      ]
     },
     "execution_count": 54,
     "metadata": {},
     "output_type": "execute_result"
    }
   ],
   "source": [
    "ypred_ri=ri_car.predict(X_test)\n",
    "ypred_ri"
   ]
  },
  {
   "cell_type": "markdown",
   "id": "5d39f56c",
   "metadata": {},
   "source": [
    "#### Model Evaluation"
   ]
  },
  {
   "cell_type": "code",
   "execution_count": 55,
   "id": "6d46dc66",
   "metadata": {},
   "outputs": [
    {
     "name": "stdout",
     "output_type": "stream",
     "text": [
      "mean squared error : 108360463063.33136\n",
      "Root mean squared error : 329181.5047406694\n",
      "mean absolute error : 202748.7486822308\n",
      "R2 Score : 0.4160184680932365\n"
     ]
    }
   ],
   "source": [
    "reg_eval_met(y_test, ypred_ri)"
   ]
  },
  {
   "cell_type": "code",
   "execution_count": 56,
   "id": "af1998d2",
   "metadata": {},
   "outputs": [
    {
     "name": "stdout",
     "output_type": "stream",
     "text": [
      "Training Score : 0.4296187882150794\n",
      "Testing Score : 0.4160184680932365\n"
     ]
    }
   ],
   "source": [
    "mscore(ri_car)"
   ]
  },
  {
   "cell_type": "markdown",
   "id": "5f3a68af",
   "metadata": {},
   "source": [
    "#### 4) DecisionTreeRegressor"
   ]
  },
  {
   "cell_type": "markdown",
   "id": "392ee5f8",
   "metadata": {},
   "source": [
    "#### Train the model"
   ]
  },
  {
   "cell_type": "code",
   "execution_count": 57,
   "id": "ec9716f9",
   "metadata": {},
   "outputs": [
    {
     "data": {
      "text/plain": [
       "DecisionTreeRegressor(criterion='mse', max_depth=11, min_samples_split=15,\n",
       "                      random_state=0)"
      ]
     },
     "execution_count": 57,
     "metadata": {},
     "output_type": "execute_result"
    }
   ],
   "source": [
    "dt_car.fit(X_train, y_train)"
   ]
  },
  {
   "cell_type": "markdown",
   "id": "c0959640",
   "metadata": {},
   "source": [
    "#### Predict on test data"
   ]
  },
  {
   "cell_type": "code",
   "execution_count": 58,
   "id": "5db4910b",
   "metadata": {},
   "outputs": [
    {
     "data": {
      "text/plain": [
       "array([ 200634.61538462,  160666.66666667,  860999.84210526,\n",
       "        232558.11627907,  501975.84337349,  444266.62666667,\n",
       "        340749.9       ,   68571.42857143,  750416.61111111,\n",
       "        136250.        ,  485714.14285714,  340749.9       ,\n",
       "        430077.55172414, 2800000.        ,  200634.61538462,\n",
       "        424232.51162791,  506071.42857143,  164075.68181818,\n",
       "       2050000.        ,   88884.93939394,  352499.875     ,\n",
       "        200000.        ,  603045.45454545,  567155.53333333,\n",
       "        323928.57142857,  333259.96      ,  218475.63106796,\n",
       "        147000.        ,  424232.51162791,  164075.68181818,\n",
       "        444266.62666667,  235624.875     ,  890941.17647059,\n",
       "       3138846.15384615,  340749.9       ,  411049.95      ,\n",
       "       1753636.27272727,  218475.63106796,  117000.        ,\n",
       "        313750.        ,  444266.62666667,  719193.48387097,\n",
       "        501975.84337349,  322727.09090909,  879555.51388889,\n",
       "        492227.22727273,  424232.51162791,  200634.61538462,\n",
       "        200634.61538462,  265586.13793103,  879555.51388889,\n",
       "        719193.48387097, 1056875.        ,  907090.72727273,\n",
       "        677000.        , 1753636.27272727,  299285.57142857,\n",
       "        218475.63106796,   94857.14285714,  994142.85714286,\n",
       "        783000.        ,  270786.48314607,  331999.95652174,\n",
       "        270786.48314607,  616076.84615385,  120429.02419355,\n",
       "        144083.33333333,  762466.66666667,  111846.15384615,\n",
       "        218475.63106796,  120429.02419355,  374400.        ,\n",
       "        197000.        ,  155000.        ,  472791.54166667,\n",
       "        382642.85714286,  842300.        ,  396583.25      ,\n",
       "        232558.11627907, 1323333.33333333,  200634.61538462,\n",
       "        585249.9375    ,  270786.48314607,  430077.55172414,\n",
       "        761999.92857143,  603045.45454545,  270786.48314607,\n",
       "         61833.33333333,  218475.63106796,  333259.96      ,\n",
       "        398950.        ,  567155.53333333,  225108.05405405,\n",
       "        160666.66666667,  300859.98      ,  120429.02419355,\n",
       "        300859.98      ,  195114.25714286,  411049.95      ,\n",
       "        709375.        ,   88884.93939394, 3138846.15384615,\n",
       "         88884.93939394,  879555.51388889,  398124.9375    ,\n",
       "        501975.84337349,  750416.61111111,   88884.93939394,\n",
       "        715000.        ,  501000.        ,  339166.66666667,\n",
       "        195114.25714286,  201357.        ,  265586.13793103,\n",
       "        604125.        ,   97500.        ,  444266.62666667,\n",
       "        737500.        ,  501975.84337349,  616076.84615385,\n",
       "        721400.        ,  628750.        ,  444266.62666667,\n",
       "        567155.53333333,  270786.48314607,  120429.02419355,\n",
       "        374000.        ,  218475.63106796,  475624.875     ,\n",
       "        170800.        ,  750416.61111111,  218475.63106796,\n",
       "        553894.68421053,  567155.53333333,  879555.51388889,\n",
       "        312363.63636364,  444266.62666667,  342999.875     ,\n",
       "        501975.84337349,   88884.93939394,  333259.96      ,\n",
       "        299285.57142857,  501975.84337349,  701666.66666667,\n",
       "       1056875.        ,  492227.22727273,  195114.25714286,\n",
       "        975000.        ,  163333.33333333, 1090000.        ,\n",
       "        195114.25714286,  313750.        ,  444266.62666667,\n",
       "        750416.61111111,  120429.02419355,  718181.81818182,\n",
       "        374000.        ,  485714.14285714,  218475.63106796,\n",
       "        842300.        ,   97500.        ,  456666.66666667,\n",
       "        273333.16666667,  860999.84210526,  752153.84615385,\n",
       "        147444.44444444,  927357.14285714,  677000.        ,\n",
       "        210000.        ,  200000.        ,  312363.63636364,\n",
       "        147000.        ,  567155.53333333,  333259.96      ,\n",
       "        444444.44444444,  475624.875     ,  112214.21428571,\n",
       "        860999.84210526,  750416.61111111,  472791.54166667,\n",
       "         97500.        ,  424232.51162791,  575625.        ,\n",
       "        430077.55172414,  446250.        ,  195114.25714286,\n",
       "        444266.62666667,  567155.53333333,  203571.42857143,\n",
       "        694444.44444444,  430077.55172414,  300859.98      ,\n",
       "        160666.66666667, 1633000.        ,   97500.        ,\n",
       "        316600.        ,  567155.53333333,  424232.51162791,\n",
       "        424232.51162791,  323928.57142857,  501975.84337349,\n",
       "        295043.39130435,  265586.13793103,  316600.        ,\n",
       "        164075.68181818,  238666.58333333,  444266.62666667,\n",
       "        238666.58333333,  333259.96      ,  323550.        ,\n",
       "        501975.84337349,  788500.        ,  331999.95652174,\n",
       "        312363.63636364,  218475.63106796,  585249.9375    ,\n",
       "        295625.        ,  277500.        ,  430077.55172414,\n",
       "        444266.62666667,  501975.84337349,  218475.63106796,\n",
       "        120429.02419355,   88884.93939394,  890941.17647059,\n",
       "        553894.68421053,  575625.        ,  117000.        ,\n",
       "        430077.55172414,  677000.        ,  302500.        ,\n",
       "        295043.39130435,  750416.61111111,  148333.25      ,\n",
       "        120429.02419355,  289999.5       ,  239692.30769231,\n",
       "         64214.28571429,  266833.33333333,  585249.9375    ,\n",
       "        374400.        ,  553894.68421053, 1018499.9       ,\n",
       "        567155.53333333,   97500.        ,  850000.        ,\n",
       "        197285.57142857,  218475.63106796,  331999.95652174,\n",
       "        199090.90909091,  567155.53333333,  133750.        ,\n",
       "        374000.        ,  323928.57142857,  694444.44444444,\n",
       "        421999.8       ,  750416.61111111,  485714.14285714,\n",
       "        603045.45454545,  480000.        ,  199090.90909091,\n",
       "       2302777.77777778,  927357.14285714,  750416.61111111,\n",
       "        430077.55172414, 1633000.        ,  232558.11627907,\n",
       "        598750.        ,  905785.71428571,  210000.        ,\n",
       "        398950.        ,  506071.42857143,  879555.51388889,\n",
       "        405000.        ,  444266.62666667,  270786.48314607,\n",
       "        266833.33333333,  333259.96      ,  218475.63106796,\n",
       "        501975.84337349,  195114.25714286,  164075.68181818,\n",
       "        879555.51388889,  170800.        ,  750416.61111111,\n",
       "        197285.57142857,  267499.875     ,  164075.68181818,\n",
       "        501975.84337349,   88884.93939394,  265586.13793103,\n",
       "        382642.85714286,  238666.58333333,  506071.42857143,\n",
       "        218475.63106796,  842300.        ,  289999.5       ,\n",
       "        927357.14285714,  600000.        ,  719193.48387097,\n",
       "        492227.22727273,  444444.44444444,  411049.95      ,\n",
       "        501975.84337349,  485714.14285714,  374000.        ,\n",
       "        340749.9       ,  120429.02419355, 1650000.        ,\n",
       "        492227.22727273,  316600.        ,  750416.61111111,\n",
       "        729642.78571429,   88884.93939394,  927357.14285714,\n",
       "        302500.        , 1033545.36363636,  120429.02419355,\n",
       "        501975.84337349,  501975.84337349,  200634.61538462,\n",
       "        155335.63636364, 2302777.77777778,  721400.        ,\n",
       "       1000000.        ,  421999.8       ,  340749.9       ,\n",
       "        472500.        ,  898199.8       ,  750416.61111111,\n",
       "        164075.68181818,  340749.9       ,  424232.51162791,\n",
       "        879555.51388889,  501975.84337349,  718181.81818182,\n",
       "         88884.93939394,   64214.28571429,  218475.63106796,\n",
       "        430077.55172414,  430077.55172414,  583000.        ,\n",
       "        340749.9       ,  501975.84337349,  232558.11627907,\n",
       "        762466.66666667,  860999.84210526,  890941.17647059,\n",
       "        567155.53333333,  430077.55172414,  457717.87179487,\n",
       "        411049.95      ,  603045.45454545,  333259.96      ,\n",
       "        680866.6       ,  430077.55172414,  621066.66666667,\n",
       "        907090.72727273])"
      ]
     },
     "execution_count": 58,
     "metadata": {},
     "output_type": "execute_result"
    }
   ],
   "source": [
    "ypred_dt=dt_car.predict(X_test)\n",
    "ypred_dt"
   ]
  },
  {
   "cell_type": "markdown",
   "id": "90512607",
   "metadata": {},
   "source": [
    "#### Model Evaluation"
   ]
  },
  {
   "cell_type": "code",
   "execution_count": 59,
   "id": "e0153d71",
   "metadata": {},
   "outputs": [
    {
     "name": "stdout",
     "output_type": "stream",
     "text": [
      "mean squared error : 81679613389.16881\n",
      "Root mean squared error : 285796.4544727048\n",
      "mean absolute error : 157931.02065963487\n",
      "R2 Score : 0.559808214139127\n"
     ]
    }
   ],
   "source": [
    "reg_eval_met(y_test, ypred_dt)"
   ]
  },
  {
   "cell_type": "code",
   "execution_count": 60,
   "id": "56e1a05d",
   "metadata": {},
   "outputs": [
    {
     "name": "stdout",
     "output_type": "stream",
     "text": [
      "Training Score : 0.7509307152306935\n",
      "Testing Score : 0.559808214139127\n"
     ]
    }
   ],
   "source": [
    "mscore(dt_car)"
   ]
  },
  {
   "cell_type": "markdown",
   "id": "b17436c7",
   "metadata": {},
   "source": [
    "#### 5) RandomForestRegressor"
   ]
  },
  {
   "cell_type": "markdown",
   "id": "ab7226d8",
   "metadata": {},
   "source": [
    "#### Train the model "
   ]
  },
  {
   "cell_type": "code",
   "execution_count": 61,
   "id": "13296698",
   "metadata": {},
   "outputs": [
    {
     "data": {
      "text/plain": [
       "RandomForestRegressor(criterion='mse', max_depth=11, min_samples_split=15,\n",
       "                      n_estimators=110, random_state=0)"
      ]
     },
     "execution_count": 61,
     "metadata": {},
     "output_type": "execute_result"
    }
   ],
   "source": [
    "rf_car.fit(X_train, y_train)"
   ]
  },
  {
   "cell_type": "markdown",
   "id": "4699ae6f",
   "metadata": {},
   "source": [
    "#### Predict on test data"
   ]
  },
  {
   "cell_type": "code",
   "execution_count": 62,
   "id": "fb06c2f6",
   "metadata": {},
   "outputs": [
    {
     "data": {
      "text/plain": [
       "array([ 179435.8510476 ,  181779.33719315,  829796.35181169,\n",
       "        241211.43406603,  522992.81478591,  465950.76133771,\n",
       "        305769.97007215,  106546.80141105,  678098.96304998,\n",
       "        127668.15451537,  625594.15056341,  368726.82473616,\n",
       "        406858.79784229, 1476093.04128692,  174270.13764714,\n",
       "        378483.37588999,  560025.44174506,  151297.80461172,\n",
       "        860427.31050747,   92844.88783381,  351178.29360362,\n",
       "         94412.46277843,  594981.81192539,  594859.9118242 ,\n",
       "        359287.32323615,  376237.39556948,  206587.10898128,\n",
       "        181579.34432565,  460404.04904536,  151297.80461172,\n",
       "        467851.68180957,  170305.16948291,  871291.12340299,\n",
       "       3056647.61197988,  390785.80729956,  437817.22647041,\n",
       "       1535192.81540817,  243545.72051615,  120266.57144234,\n",
       "        307328.40067259,  435993.64059848,  734637.69137482,\n",
       "        523544.75544635,  293045.6283169 ,  911993.63230644,\n",
       "        456799.74570433,  446858.81767966,  189388.88087148,\n",
       "        200699.23446472,  215547.47045683,  847090.78135415,\n",
       "        751604.05464476, 1275732.78200326,  873057.14258817,\n",
       "        679371.65930867, 1643441.99764403,  303065.88759039,\n",
       "        222960.0740518 ,  136521.81385428, 2129498.4160638 ,\n",
       "        652182.21293858,  275231.88777261,  299297.93626419,\n",
       "        261479.15697306,  562530.34398048,  116785.25815024,\n",
       "        210171.2518994 ,  860563.78140071,  111331.33505541,\n",
       "        214169.3448442 ,  129717.51867536,  370249.34255765,\n",
       "        230938.30719934,  223010.03772168,  457667.00838449,\n",
       "        392981.87036976,  727717.63150008,  400441.83459629,\n",
       "        204362.88650218, 1134927.49892184,  192960.42189543,\n",
       "        535261.58318463,  277266.04237232,  441228.19230828,\n",
       "        581715.36515924,  625543.17605804,  287422.70148776,\n",
       "        104462.95507647,  211356.57392705,  379213.21867002,\n",
       "        384171.20883877,  554065.16192162,  227193.47861522,\n",
       "        173658.99977525,  333490.04416991,  108270.99194892,\n",
       "        302063.68681295,  222152.10064133,  387077.23450729,\n",
       "        635584.67108371,   76956.69428197, 3723175.82912823,\n",
       "        100866.49624749,  949645.36231645,  465821.77614566,\n",
       "        522282.15088576,  829138.45296723,   88892.13994017,\n",
       "        656349.70404693,  618411.97185648,  331231.28817106,\n",
       "        225353.29115507,  177960.4690381 ,  294287.44535401,\n",
       "       1153684.63271114,  108317.2237634 ,  465862.64116876,\n",
       "        633581.49562465,  531280.65645319,  543175.84199488,\n",
       "        720476.38072871,  413290.76113205,  466861.42831307,\n",
       "        561180.61131683,  287639.5533249 ,  114661.38986061,\n",
       "        286457.22481565,  225733.0207692 ,  436012.2487905 ,\n",
       "        167818.62945147,  751015.98621737,  225962.66465367,\n",
       "        526657.02300685,  553952.24153591,  871461.27337615,\n",
       "        368493.01506293,  439685.07514587,  409784.9456377 ,\n",
       "        521015.34510612,   95076.49289835,  412766.72636042,\n",
       "        326274.70834619,  523569.53431816,  988428.53604763,\n",
       "        825900.82126724,  449107.82154853,  185834.36724735,\n",
       "        938927.526189  ,  180370.69494555,  506980.07260639,\n",
       "        241628.31923732,  314593.63420869,  448019.65778621,\n",
       "        751015.98621737,  120426.48217099,  782964.33990735,\n",
       "        321988.30155361,  609922.62281755,  225546.984189  ,\n",
       "        783768.96312195,   99589.17328624,  291832.07186206,\n",
       "        283891.38308337,  837227.23292993,  667242.03136069,\n",
       "        189334.68251952,  863663.51648129,  646395.05704919,\n",
       "        258443.12001309,   94412.46277843,  350694.59972461,\n",
       "        196459.8383912 ,  547205.94207601,  419971.52321758,\n",
       "        397014.39503826,  533887.84673616,  127202.84514064,\n",
       "        766186.97132633,  821488.08140566,  467765.69900975,\n",
       "        110115.66049722,  422310.2709476 ,  596858.55797226,\n",
       "        404100.26052903,  594484.61422337,  254033.29563745,\n",
       "        469020.89901063,  561180.61131683,  242597.81095086,\n",
       "        927239.18551819,  430826.48148329,  301456.19763178,\n",
       "        187681.11101149, 1684234.98981096,  134043.64492994,\n",
       "        317607.60009039,  603271.66379238,  447434.64618377,\n",
       "        391457.42867018,  355302.38596234,  522971.66504952,\n",
       "        307756.95304116,  259586.41830292,  264749.4278758 ,\n",
       "        163378.95804271,  195091.39610756,  456019.19408345,\n",
       "        222814.0283897 ,  358886.53447168,  308943.22469495,\n",
       "        512932.11818965,  750209.19092944,  276395.59117886,\n",
       "        367080.49198338,  218595.40243328,  500694.52176221,\n",
       "        325015.2732899 ,  385502.0923801 ,  418759.03783971,\n",
       "        495906.05656316,  557808.53303426,  213702.98801894,\n",
       "        123981.08819284,   90677.47441613,  993033.48912945,\n",
       "        535513.4973693 ,  649735.17477512,  116335.96388825,\n",
       "        441724.71484244,  646333.06666286,  301974.71900587,\n",
       "        324866.07808296,  634860.93073866,  155587.04620953,\n",
       "        117626.32693192,  194855.71212645,  206158.27033932,\n",
       "         75695.94514856,  316605.25817967,  533255.92975668,\n",
       "        272383.59791345,  522495.31578311,  776700.53736156,\n",
       "        596093.34352596,  109931.86788907,  515379.59813212,\n",
       "        218238.06308856,  243545.72051615,  321474.61295651,\n",
       "        242964.43368158,  531236.93093968,  121061.13086613,\n",
       "        331099.17947299,  334759.93061331,  636902.75690788,\n",
       "        351333.99167877,  664991.77320611,  647879.49072981,\n",
       "        617359.75570176,  486067.05042572,  183170.09450498,\n",
       "       2078014.29830477, 1270073.84220037,  695930.21204308,\n",
       "        414219.08180915, 1542124.72630329,  261862.26198266,\n",
       "        562379.71485427, 1485833.77440486,  258109.92832584,\n",
       "        429589.66659752,  576055.47237383,  859412.64495931,\n",
       "        330649.49546349,  474361.11938715,  309105.90666722,\n",
       "        310400.26378939,  303312.51003828,  224733.88657006,\n",
       "        527271.53793406,  232219.54532935,  182014.07367213,\n",
       "        927036.91712411,  184312.5440947 ,  675832.85546169,\n",
       "        166956.32749802,  320533.10153882,  165252.79766115,\n",
       "        521970.29545269,   94684.52435754,  224215.79253095,\n",
       "        425489.30792145,  243763.21953119,  517849.1992555 ,\n",
       "        224024.15199579,  869706.08493018,  190004.42768321,\n",
       "       1134155.71311823, 1994612.07230777,  731132.9639745 ,\n",
       "        441507.80024781,  398470.09194787,  434744.83488234,\n",
       "        584293.4853375 ,  590183.20013624,  353011.77726158,\n",
       "        354813.44583469,  129697.33522166, 1312044.81608653,\n",
       "        422216.32245585,  293575.20594363,  649458.00672805,\n",
       "        779406.28201532,   95076.49289835, 1156528.98215454,\n",
       "        302506.61231277,  994862.50118342,  120942.81282581,\n",
       "        534807.16611565,  499048.37002927,  173406.13300708,\n",
       "        140820.32405496, 1869239.36537116,  904890.54794701,\n",
       "        688551.81649678,  382517.23196254,  354813.44583469,\n",
       "        390033.56154865,  847803.65771077,  728005.97658019,\n",
       "        191379.89659218,  364818.0923273 ,  402887.92495073,\n",
       "        804065.59871249,  473280.96055898,  734386.8438891 ,\n",
       "         81383.53160219,  111487.78528983,  223175.41095112,\n",
       "        392592.28653105,  404100.26052903,  786987.42545614,\n",
       "        325943.23162679,  522568.01267534,  248350.40819465,\n",
       "        899593.04884125,  847794.55262169, 1027816.13087346,\n",
       "        553952.24153591,  410932.65212199,  429745.90203156,\n",
       "        439304.57991582,  602323.74142183,  349736.60669827,\n",
       "        478190.58984232,  445909.55011476,  527794.20629359,\n",
       "        873057.14258817])"
      ]
     },
     "execution_count": 62,
     "metadata": {},
     "output_type": "execute_result"
    }
   ],
   "source": [
    "ypred_rf=rf_car.predict(X_test)\n",
    "ypred_rf"
   ]
  },
  {
   "cell_type": "markdown",
   "id": "0affa951",
   "metadata": {},
   "source": [
    "#### Model Evaluation"
   ]
  },
  {
   "cell_type": "code",
   "execution_count": 63,
   "id": "de34d36a",
   "metadata": {},
   "outputs": [
    {
     "name": "stdout",
     "output_type": "stream",
     "text": [
      "mean squared error : 61040488303.55244\n",
      "Root mean squared error : 247063.73328263385\n",
      "mean absolute error : 146148.96183504784\n",
      "R2 Score : 0.6710376011681327\n"
     ]
    }
   ],
   "source": [
    "reg_eval_met(y_test, ypred_rf)"
   ]
  },
  {
   "cell_type": "code",
   "execution_count": 64,
   "id": "8c9a1107",
   "metadata": {},
   "outputs": [
    {
     "name": "stdout",
     "output_type": "stream",
     "text": [
      "Training Score : 0.7620588747832713\n",
      "Testing Score : 0.6710376011681327\n"
     ]
    }
   ],
   "source": [
    "mscore(rf_car)"
   ]
  },
  {
   "cell_type": "markdown",
   "id": "9d2b181b",
   "metadata": {},
   "source": [
    "#### Inference:-\n",
    "RandomForestRegressor Model would be the best model for predicting seller price of car."
   ]
  },
  {
   "cell_type": "markdown",
   "id": "9dc73334",
   "metadata": {},
   "source": [
    "#### Saving the model and the DataFrame and Independent features"
   ]
  },
  {
   "cell_type": "code",
   "execution_count": 65,
   "id": "6a32fdf4",
   "metadata": {},
   "outputs": [],
   "source": [
    "import pickle"
   ]
  },
  {
   "cell_type": "code",
   "execution_count": 66,
   "id": "4eae56fe",
   "metadata": {},
   "outputs": [
    {
     "data": {
      "text/html": [
       "<div>\n",
       "<style scoped>\n",
       "    .dataframe tbody tr th:only-of-type {\n",
       "        vertical-align: middle;\n",
       "    }\n",
       "\n",
       "    .dataframe tbody tr th {\n",
       "        vertical-align: top;\n",
       "    }\n",
       "\n",
       "    .dataframe thead th {\n",
       "        text-align: right;\n",
       "    }\n",
       "</style>\n",
       "<table border=\"1\" class=\"dataframe\">\n",
       "  <thead>\n",
       "    <tr style=\"text-align: right;\">\n",
       "      <th></th>\n",
       "      <th>name</th>\n",
       "      <th>year</th>\n",
       "      <th>selling_price</th>\n",
       "      <th>km_driven</th>\n",
       "      <th>fuel</th>\n",
       "      <th>seller_type</th>\n",
       "      <th>transmission</th>\n",
       "      <th>owner</th>\n",
       "      <th>Brand_Name</th>\n",
       "    </tr>\n",
       "  </thead>\n",
       "  <tbody>\n",
       "    <tr>\n",
       "      <th>0</th>\n",
       "      <td>Maruti 800 AC</td>\n",
       "      <td>2007</td>\n",
       "      <td>60000</td>\n",
       "      <td>70000</td>\n",
       "      <td>Petrol</td>\n",
       "      <td>Individual</td>\n",
       "      <td>Manual</td>\n",
       "      <td>First Owner</td>\n",
       "      <td>Maruti</td>\n",
       "    </tr>\n",
       "    <tr>\n",
       "      <th>1</th>\n",
       "      <td>Maruti Wagon R LXI Minor</td>\n",
       "      <td>2007</td>\n",
       "      <td>135000</td>\n",
       "      <td>50000</td>\n",
       "      <td>Petrol</td>\n",
       "      <td>Individual</td>\n",
       "      <td>Manual</td>\n",
       "      <td>First Owner</td>\n",
       "      <td>Maruti</td>\n",
       "    </tr>\n",
       "    <tr>\n",
       "      <th>2</th>\n",
       "      <td>Hyundai Verna 1.6 SX</td>\n",
       "      <td>2012</td>\n",
       "      <td>600000</td>\n",
       "      <td>100000</td>\n",
       "      <td>Diesel</td>\n",
       "      <td>Individual</td>\n",
       "      <td>Manual</td>\n",
       "      <td>First Owner</td>\n",
       "      <td>Hyundai</td>\n",
       "    </tr>\n",
       "    <tr>\n",
       "      <th>3</th>\n",
       "      <td>Datsun RediGO T Option</td>\n",
       "      <td>2017</td>\n",
       "      <td>250000</td>\n",
       "      <td>46000</td>\n",
       "      <td>Petrol</td>\n",
       "      <td>Individual</td>\n",
       "      <td>Manual</td>\n",
       "      <td>First Owner</td>\n",
       "      <td>Datsun</td>\n",
       "    </tr>\n",
       "    <tr>\n",
       "      <th>4</th>\n",
       "      <td>Honda Amaze VX i-DTEC</td>\n",
       "      <td>2014</td>\n",
       "      <td>450000</td>\n",
       "      <td>141000</td>\n",
       "      <td>Diesel</td>\n",
       "      <td>Individual</td>\n",
       "      <td>Manual</td>\n",
       "      <td>Second Owner</td>\n",
       "      <td>Honda</td>\n",
       "    </tr>\n",
       "  </tbody>\n",
       "</table>\n",
       "</div>"
      ],
      "text/plain": [
       "                       name  year  selling_price  km_driven    fuel  \\\n",
       "0             Maruti 800 AC  2007          60000      70000  Petrol   \n",
       "1  Maruti Wagon R LXI Minor  2007         135000      50000  Petrol   \n",
       "2      Hyundai Verna 1.6 SX  2012         600000     100000  Diesel   \n",
       "3    Datsun RediGO T Option  2017         250000      46000  Petrol   \n",
       "4     Honda Amaze VX i-DTEC  2014         450000     141000  Diesel   \n",
       "\n",
       "  seller_type transmission         owner Brand_Name  \n",
       "0  Individual       Manual   First Owner     Maruti  \n",
       "1  Individual       Manual   First Owner     Maruti  \n",
       "2  Individual       Manual   First Owner    Hyundai  \n",
       "3  Individual       Manual   First Owner     Datsun  \n",
       "4  Individual       Manual  Second Owner      Honda  "
      ]
     },
     "execution_count": 66,
     "metadata": {},
     "output_type": "execute_result"
    }
   ],
   "source": [
    "df.head()"
   ]
  },
  {
   "cell_type": "code",
   "execution_count": 67,
   "id": "052e6453",
   "metadata": {},
   "outputs": [],
   "source": [
    "pickle.dump(rf_car, open('rf.pkl', 'wb'))     # Saving the best performing model\n",
    "pickle.dump(df, open('data1.pkl', 'wb'))      # Saving the dataframe\n",
    "pickle.dump(X, open('Independent_features.pkl', 'wb'))    # Saving the dataframe Independent features"
   ]
  }
 ],
 "metadata": {
  "kernelspec": {
   "display_name": "Python 3 (ipykernel)",
   "language": "python",
   "name": "python3"
  },
  "language_info": {
   "codemirror_mode": {
    "name": "ipython",
    "version": 3
   },
   "file_extension": ".py",
   "mimetype": "text/x-python",
   "name": "python",
   "nbconvert_exporter": "python",
   "pygments_lexer": "ipython3",
   "version": "3.9.12"
  }
 },
 "nbformat": 4,
 "nbformat_minor": 5
}
